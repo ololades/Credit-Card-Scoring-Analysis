{
 "cells": [
  {
   "cell_type": "code",
   "execution_count": 632,
   "metadata": {},
   "outputs": [],
   "source": [
    "#import Libraries \n",
    "import pandas as pd\n",
    "import numpy as np\n",
    "\n",
    "import seaborn as sns\n",
    "from matplotlib import pyplot as plt\n",
    "%matplotlib inline\n",
    "\n",
    "from sklearn.model_selection import train_test_split\n",
    "from sklearn.tree import DecisionTreeClassifier, plot_tree\n",
    "from sklearn.ensemble import RandomForestClassifier\n",
    "from sklearn.metrics import roc_auc_score\n",
    "\n",
    "import warnings\n",
    "warnings.filterwarnings(\"ignore\")"
   ]
  },
  {
   "cell_type": "code",
   "execution_count": 633,
   "metadata": {},
   "outputs": [
    {
     "data": {
      "text/html": [
       "<div>\n",
       "<style scoped>\n",
       "    .dataframe tbody tr th:only-of-type {\n",
       "        vertical-align: middle;\n",
       "    }\n",
       "\n",
       "    .dataframe tbody tr th {\n",
       "        vertical-align: top;\n",
       "    }\n",
       "\n",
       "    .dataframe thead th {\n",
       "        text-align: right;\n",
       "    }\n",
       "</style>\n",
       "<table border=\"1\" class=\"dataframe\">\n",
       "  <thead>\n",
       "    <tr style=\"text-align: right;\">\n",
       "      <th></th>\n",
       "      <th>age</th>\n",
       "      <th>ed</th>\n",
       "      <th>employ</th>\n",
       "      <th>address</th>\n",
       "      <th>income</th>\n",
       "      <th>debtinc</th>\n",
       "      <th>creddebt</th>\n",
       "      <th>othdebt</th>\n",
       "      <th>default</th>\n",
       "    </tr>\n",
       "  </thead>\n",
       "  <tbody>\n",
       "    <tr>\n",
       "      <th>0</th>\n",
       "      <td>41</td>\n",
       "      <td>3</td>\n",
       "      <td>17</td>\n",
       "      <td>12</td>\n",
       "      <td>176</td>\n",
       "      <td>9.3</td>\n",
       "      <td>11.359392</td>\n",
       "      <td>5.008608</td>\n",
       "      <td>1.0</td>\n",
       "    </tr>\n",
       "    <tr>\n",
       "      <th>1</th>\n",
       "      <td>27</td>\n",
       "      <td>1</td>\n",
       "      <td>10</td>\n",
       "      <td>6</td>\n",
       "      <td>31</td>\n",
       "      <td>17.3</td>\n",
       "      <td>1.362202</td>\n",
       "      <td>4.000798</td>\n",
       "      <td>0.0</td>\n",
       "    </tr>\n",
       "    <tr>\n",
       "      <th>2</th>\n",
       "      <td>40</td>\n",
       "      <td>1</td>\n",
       "      <td>15</td>\n",
       "      <td>14</td>\n",
       "      <td>55</td>\n",
       "      <td>5.5</td>\n",
       "      <td>0.856075</td>\n",
       "      <td>2.168925</td>\n",
       "      <td>0.0</td>\n",
       "    </tr>\n",
       "    <tr>\n",
       "      <th>3</th>\n",
       "      <td>41</td>\n",
       "      <td>1</td>\n",
       "      <td>15</td>\n",
       "      <td>14</td>\n",
       "      <td>120</td>\n",
       "      <td>2.9</td>\n",
       "      <td>2.658720</td>\n",
       "      <td>0.821280</td>\n",
       "      <td>0.0</td>\n",
       "    </tr>\n",
       "    <tr>\n",
       "      <th>4</th>\n",
       "      <td>24</td>\n",
       "      <td>2</td>\n",
       "      <td>2</td>\n",
       "      <td>0</td>\n",
       "      <td>28</td>\n",
       "      <td>17.3</td>\n",
       "      <td>1.787436</td>\n",
       "      <td>3.056564</td>\n",
       "      <td>1.0</td>\n",
       "    </tr>\n",
       "  </tbody>\n",
       "</table>\n",
       "</div>"
      ],
      "text/plain": [
       "   age  ed  employ  address  income  debtinc   creddebt   othdebt  default\n",
       "0   41   3      17       12     176      9.3  11.359392  5.008608      1.0\n",
       "1   27   1      10        6      31     17.3   1.362202  4.000798      0.0\n",
       "2   40   1      15       14      55      5.5   0.856075  2.168925      0.0\n",
       "3   41   1      15       14     120      2.9   2.658720  0.821280      0.0\n",
       "4   24   2       2        0      28     17.3   1.787436  3.056564      1.0"
      ]
     },
     "execution_count": 633,
     "metadata": {},
     "output_type": "execute_result"
    }
   ],
   "source": [
    "# Read dataset\n",
    "df = pd.read_csv('bankloans.csv')\n",
    "df.head()"
   ]
  },
  {
   "cell_type": "code",
   "execution_count": 634,
   "metadata": {},
   "outputs": [
    {
     "data": {
      "text/plain": [
       "age           0\n",
       "ed            0\n",
       "employ        0\n",
       "address       0\n",
       "income        0\n",
       "debtinc       0\n",
       "creddebt      0\n",
       "othdebt       0\n",
       "default     450\n",
       "dtype: int64"
      ]
     },
     "execution_count": 634,
     "metadata": {},
     "output_type": "execute_result"
    }
   ],
   "source": [
    "df.isnull().sum()"
   ]
  },
  {
   "cell_type": "code",
   "execution_count": 635,
   "metadata": {},
   "outputs": [],
   "source": [
    "default_val = {\n",
    "    0: 'ok',\n",
    "    1: 'default',\n",
    "    np.nan: 'unknown'\n",
    "    }\n",
    "df.default = df.default.map(default_val)"
   ]
  },
  {
   "cell_type": "code",
   "execution_count": 636,
   "metadata": {},
   "outputs": [
    {
     "data": {
      "text/plain": [
       "ok         517\n",
       "unknown    450\n",
       "default    183\n",
       "Name: default, dtype: int64"
      ]
     },
     "execution_count": 636,
     "metadata": {},
     "output_type": "execute_result"
    }
   ],
   "source": [
    "df.default.value_counts()"
   ]
  },
  {
   "cell_type": "code",
   "execution_count": 637,
   "metadata": {},
   "outputs": [
    {
     "data": {
      "text/plain": [
       "age         0\n",
       "ed          0\n",
       "employ      0\n",
       "address     0\n",
       "income      0\n",
       "debtinc     0\n",
       "creddebt    0\n",
       "othdebt     0\n",
       "default     0\n",
       "dtype: int64"
      ]
     },
     "execution_count": 637,
     "metadata": {},
     "output_type": "execute_result"
    }
   ],
   "source": [
    "df.isnull().sum()"
   ]
  },
  {
   "attachments": {},
   "cell_type": "markdown",
   "metadata": {},
   "source": [
    "## Data exploration"
   ]
  },
  {
   "cell_type": "code",
   "execution_count": 638,
   "metadata": {},
   "outputs": [
    {
     "data": {
      "image/png": "[encoded data removed]",
      "text/plain": [
       "<Figure size 640x480 with 1 Axes>"
      ]
     },
     "metadata": {},
     "output_type": "display_data"
    }
   ],
   "source": [
    "# check the Distribution of Age\n",
    "plt.hist(df['age'], bins=10)\n",
    "plt.title('Distribution of Age')\n",
    "plt.xlabel('Age')\n",
    "plt.ylabel('Count')\n",
    "plt.show()"
   ]
  },
  {
   "cell_type": "code",
   "execution_count": 639,
   "metadata": {},
   "outputs": [
    {
     "data": {
      "image/png": "[encoded data removed]",
      "text/plain": [
       "<Figure size 640x480 with 1 Axes>"
      ]
     },
     "metadata": {},
     "output_type": "display_data"
    }
   ],
   "source": [
    "#Income vs. Debt-to-Income Ratio\n",
    "plt.scatter(df['income'], df['debtinc'])\n",
    "plt.title('Income vs. Debt-to-Income Ratio')\n",
    "plt.xlabel('Income')\n",
    "plt.ylabel('Debt-to-Income Ratio')\n",
    "plt.show()"
   ]
  },
  {
   "cell_type": "code",
   "execution_count": 651,
   "metadata": {},
   "outputs": [
    {
     "data": {
      "image/png": "[encoded data removed]",
      "text/plain": [
       "<Figure size 640x480 with 1 Axes>"
      ]
     },
     "metadata": {},
     "output_type": "display_data"
    }
   ],
   "source": [
    "#Education Level by Default Status\n",
    "sns.boxplot(x='default', y='ed', data=df)\n",
    "plt.title('Education Level by Default Status')\n",
    "plt.xlabel('Default Status')\n",
    "plt.ylabel('Education Level')\n",
    "plt.show()"
   ]
  },
  {
   "cell_type": "code",
   "execution_count": 655,
   "metadata": {},
   "outputs": [
    {
     "data": {
      "image/png": "[encoded data removed]",
      "text/plain": [
       "<Figure size 1200x600 with 2 Axes>"
      ]
     },
     "metadata": {},
     "output_type": "display_data"
    }
   ],
   "source": [
    "plt.figure(figsize=(12,6))\n",
    "corr = df[['age', 'ed', 'employ', 'address', 'income', 'debtinc', 'creddebt', 'othdebt', 'default']].corr()\n",
    "sns.heatmap(corr, cmap='coolwarm', annot=True)\n",
    "plt.title('Correlation Matrix')\n",
    "plt.show()"
   ]
  },
  {
   "cell_type": "code",
   "execution_count": 642,
   "metadata": {},
   "outputs": [
    {
     "data": {
      "image/png": "[encoded data removed]",
      "text/plain": [
       "<Figure size 640x480 with 1 Axes>"
      ]
     },
     "metadata": {},
     "output_type": "display_data"
    }
   ],
   "source": [
    "ct = pd.crosstab(df['default'], df['employ'])\n",
    "ct.plot(kind='bar', stacked=True)\n",
    "plt.title('Default Status by Employment Status')\n",
    "plt.xlabel('Default Status')\n",
    "plt.ylabel('Count')\n",
    "plt.show()"
   ]
  },
  {
   "cell_type": "code",
   "execution_count": 585,
   "metadata": {},
   "outputs": [
    {
     "name": "stdout",
     "output_type": "stream",
     "text": [
      "      age  ed  employ  address  income  debtinc  creddebt   othdebt  default\n",
      "700    36   1      16       13      32     10.9  0.544128  2.943872  unknown\n",
      "701    50   1       6       27      21     12.9  1.316574  1.392426  unknown\n",
      "702    40   1       9        9      33     17.0  4.880700  0.729300  unknown\n",
      "703    31   1       5        7      23      2.0  0.046000  0.414000  unknown\n",
      "704    29   1       4        0      24      7.8  0.866736  1.005264  unknown\n",
      "...   ...  ..     ...      ...     ...      ...       ...       ...      ...\n",
      "1145   34   1      12       15      32      2.7  0.239328  0.624672  unknown\n",
      "1146   32   2      12       11     116      5.7  4.026708  2.585292  unknown\n",
      "1147   48   1      13       11      38     10.8  0.722304  3.381696  unknown\n",
      "1148   35   2       1       11      24      7.8  0.417456  1.454544  unknown\n",
      "1149   37   1      20       13      41     12.9  0.899130  4.389870  unknown\n",
      "\n",
      "[450 rows x 9 columns]\n"
     ]
    }
   ],
   "source": [
    "# group data by default\n",
    "grouped = df.groupby(df['default'])\n",
    "print(grouped.get_group('unknown'))"
   ]
  },
  {
   "cell_type": "code",
   "execution_count": 586,
   "metadata": {},
   "outputs": [
    {
     "data": {
      "text/html": [
       "<div>\n",
       "<style scoped>\n",
       "    .dataframe tbody tr th:only-of-type {\n",
       "        vertical-align: middle;\n",
       "    }\n",
       "\n",
       "    .dataframe tbody tr th {\n",
       "        vertical-align: top;\n",
       "    }\n",
       "\n",
       "    .dataframe thead th {\n",
       "        text-align: right;\n",
       "    }\n",
       "</style>\n",
       "<table border=\"1\" class=\"dataframe\">\n",
       "  <thead>\n",
       "    <tr style=\"text-align: right;\">\n",
       "      <th></th>\n",
       "      <th>age</th>\n",
       "      <th>ed</th>\n",
       "      <th>employ</th>\n",
       "      <th>address</th>\n",
       "      <th>income</th>\n",
       "      <th>debtinc</th>\n",
       "      <th>creddebt</th>\n",
       "      <th>othdebt</th>\n",
       "      <th>default</th>\n",
       "    </tr>\n",
       "  </thead>\n",
       "  <tbody>\n",
       "    <tr>\n",
       "      <th>700</th>\n",
       "      <td>36</td>\n",
       "      <td>1</td>\n",
       "      <td>16</td>\n",
       "      <td>13</td>\n",
       "      <td>32</td>\n",
       "      <td>10.9</td>\n",
       "      <td>0.544128</td>\n",
       "      <td>2.943872</td>\n",
       "      <td>unknown</td>\n",
       "    </tr>\n",
       "    <tr>\n",
       "      <th>701</th>\n",
       "      <td>50</td>\n",
       "      <td>1</td>\n",
       "      <td>6</td>\n",
       "      <td>27</td>\n",
       "      <td>21</td>\n",
       "      <td>12.9</td>\n",
       "      <td>1.316574</td>\n",
       "      <td>1.392426</td>\n",
       "      <td>unknown</td>\n",
       "    </tr>\n",
       "    <tr>\n",
       "      <th>702</th>\n",
       "      <td>40</td>\n",
       "      <td>1</td>\n",
       "      <td>9</td>\n",
       "      <td>9</td>\n",
       "      <td>33</td>\n",
       "      <td>17.0</td>\n",
       "      <td>4.880700</td>\n",
       "      <td>0.729300</td>\n",
       "      <td>unknown</td>\n",
       "    </tr>\n",
       "    <tr>\n",
       "      <th>703</th>\n",
       "      <td>31</td>\n",
       "      <td>1</td>\n",
       "      <td>5</td>\n",
       "      <td>7</td>\n",
       "      <td>23</td>\n",
       "      <td>2.0</td>\n",
       "      <td>0.046000</td>\n",
       "      <td>0.414000</td>\n",
       "      <td>unknown</td>\n",
       "    </tr>\n",
       "    <tr>\n",
       "      <th>704</th>\n",
       "      <td>29</td>\n",
       "      <td>1</td>\n",
       "      <td>4</td>\n",
       "      <td>0</td>\n",
       "      <td>24</td>\n",
       "      <td>7.8</td>\n",
       "      <td>0.866736</td>\n",
       "      <td>1.005264</td>\n",
       "      <td>unknown</td>\n",
       "    </tr>\n",
       "  </tbody>\n",
       "</table>\n",
       "</div>"
      ],
      "text/plain": [
       "     age  ed  employ  address  income  debtinc  creddebt   othdebt  default\n",
       "700   36   1      16       13      32     10.9  0.544128  2.943872  unknown\n",
       "701   50   1       6       27      21     12.9  1.316574  1.392426  unknown\n",
       "702   40   1       9        9      33     17.0  4.880700  0.729300  unknown\n",
       "703   31   1       5        7      23      2.0  0.046000  0.414000  unknown\n",
       "704   29   1       4        0      24      7.8  0.866736  1.005264  unknown"
      ]
     },
     "execution_count": 586,
     "metadata": {},
     "output_type": "execute_result"
    }
   ],
   "source": [
    "# convert the unknown credit score variables to dataframe\n",
    "new_data = pd.DataFrame(grouped.get_group('unknown'))\n",
    "new_data.head()"
   ]
  },
  {
   "cell_type": "code",
   "execution_count": 587,
   "metadata": {},
   "outputs": [],
   "source": [
    "# saving the DataFrame as a CSV file\n",
    "#unk_bankloan_data = new_data.to_csv('unk_bankloan.csv', index = True)\n",
    "#print('\\nCSV String:\\n', unk_bankloan_data)"
   ]
  },
  {
   "cell_type": "code",
   "execution_count": 588,
   "metadata": {},
   "outputs": [],
   "source": [
    "# Drop a row by condition (contain unknown)\n",
    "df = df[df.default != 'unknown']"
   ]
  },
  {
   "cell_type": "code",
   "execution_count": 589,
   "metadata": {},
   "outputs": [
    {
     "data": {
      "text/html": [
       "<div>\n",
       "<style scoped>\n",
       "    .dataframe tbody tr th:only-of-type {\n",
       "        vertical-align: middle;\n",
       "    }\n",
       "\n",
       "    .dataframe tbody tr th {\n",
       "        vertical-align: top;\n",
       "    }\n",
       "\n",
       "    .dataframe thead th {\n",
       "        text-align: right;\n",
       "    }\n",
       "</style>\n",
       "<table border=\"1\" class=\"dataframe\">\n",
       "  <thead>\n",
       "    <tr style=\"text-align: right;\">\n",
       "      <th></th>\n",
       "      <th>age</th>\n",
       "      <th>ed</th>\n",
       "      <th>employ</th>\n",
       "      <th>address</th>\n",
       "      <th>income</th>\n",
       "      <th>debtinc</th>\n",
       "      <th>creddebt</th>\n",
       "      <th>othdebt</th>\n",
       "    </tr>\n",
       "  </thead>\n",
       "  <tbody>\n",
       "    <tr>\n",
       "      <th>count</th>\n",
       "      <td>700.000000</td>\n",
       "      <td>700.000000</td>\n",
       "      <td>700.000000</td>\n",
       "      <td>700.000000</td>\n",
       "      <td>700.000000</td>\n",
       "      <td>700.000000</td>\n",
       "      <td>700.000000</td>\n",
       "      <td>700.000000</td>\n",
       "    </tr>\n",
       "    <tr>\n",
       "      <th>mean</th>\n",
       "      <td>34.860000</td>\n",
       "      <td>1.722857</td>\n",
       "      <td>8.388571</td>\n",
       "      <td>8.278571</td>\n",
       "      <td>45.601429</td>\n",
       "      <td>10.260571</td>\n",
       "      <td>1.553553</td>\n",
       "      <td>3.058209</td>\n",
       "    </tr>\n",
       "    <tr>\n",
       "      <th>std</th>\n",
       "      <td>7.997342</td>\n",
       "      <td>0.928206</td>\n",
       "      <td>6.658039</td>\n",
       "      <td>6.824877</td>\n",
       "      <td>36.814226</td>\n",
       "      <td>6.827234</td>\n",
       "      <td>2.117197</td>\n",
       "      <td>3.287555</td>\n",
       "    </tr>\n",
       "    <tr>\n",
       "      <th>min</th>\n",
       "      <td>20.000000</td>\n",
       "      <td>1.000000</td>\n",
       "      <td>0.000000</td>\n",
       "      <td>0.000000</td>\n",
       "      <td>14.000000</td>\n",
       "      <td>0.400000</td>\n",
       "      <td>0.011696</td>\n",
       "      <td>0.045584</td>\n",
       "    </tr>\n",
       "    <tr>\n",
       "      <th>25%</th>\n",
       "      <td>29.000000</td>\n",
       "      <td>1.000000</td>\n",
       "      <td>3.000000</td>\n",
       "      <td>3.000000</td>\n",
       "      <td>24.000000</td>\n",
       "      <td>5.000000</td>\n",
       "      <td>0.369059</td>\n",
       "      <td>1.044178</td>\n",
       "    </tr>\n",
       "    <tr>\n",
       "      <th>50%</th>\n",
       "      <td>34.000000</td>\n",
       "      <td>1.000000</td>\n",
       "      <td>7.000000</td>\n",
       "      <td>7.000000</td>\n",
       "      <td>34.000000</td>\n",
       "      <td>8.600000</td>\n",
       "      <td>0.854869</td>\n",
       "      <td>1.987567</td>\n",
       "    </tr>\n",
       "    <tr>\n",
       "      <th>75%</th>\n",
       "      <td>40.000000</td>\n",
       "      <td>2.000000</td>\n",
       "      <td>12.000000</td>\n",
       "      <td>12.000000</td>\n",
       "      <td>55.000000</td>\n",
       "      <td>14.125000</td>\n",
       "      <td>1.901955</td>\n",
       "      <td>3.923065</td>\n",
       "    </tr>\n",
       "    <tr>\n",
       "      <th>max</th>\n",
       "      <td>56.000000</td>\n",
       "      <td>5.000000</td>\n",
       "      <td>31.000000</td>\n",
       "      <td>34.000000</td>\n",
       "      <td>446.000000</td>\n",
       "      <td>41.300000</td>\n",
       "      <td>20.561310</td>\n",
       "      <td>27.033600</td>\n",
       "    </tr>\n",
       "  </tbody>\n",
       "</table>\n",
       "</div>"
      ],
      "text/plain": [
       "              age          ed      employ     address      income     debtinc  \\\n",
       "count  700.000000  700.000000  700.000000  700.000000  700.000000  700.000000   \n",
       "mean    34.860000    1.722857    8.388571    8.278571   45.601429   10.260571   \n",
       "std      7.997342    0.928206    6.658039    6.824877   36.814226    6.827234   \n",
       "min     20.000000    1.000000    0.000000    0.000000   14.000000    0.400000   \n",
       "25%     29.000000    1.000000    3.000000    3.000000   24.000000    5.000000   \n",
       "50%     34.000000    1.000000    7.000000    7.000000   34.000000    8.600000   \n",
       "75%     40.000000    2.000000   12.000000   12.000000   55.000000   14.125000   \n",
       "max     56.000000    5.000000   31.000000   34.000000  446.000000   41.300000   \n",
       "\n",
       "         creddebt     othdebt  \n",
       "count  700.000000  700.000000  \n",
       "mean     1.553553    3.058209  \n",
       "std      2.117197    3.287555  \n",
       "min      0.011696    0.045584  \n",
       "25%      0.369059    1.044178  \n",
       "50%      0.854869    1.987567  \n",
       "75%      1.901955    3.923065  \n",
       "max     20.561310   27.033600  "
      ]
     },
     "execution_count": 589,
     "metadata": {},
     "output_type": "execute_result"
    }
   ],
   "source": [
    "df.describe()"
   ]
  },
  {
   "cell_type": "code",
   "execution_count": 590,
   "metadata": {},
   "outputs": [],
   "source": [
    "# replacing values\n",
    "df['default'].replace(['ok', 'default'],\n",
    "[0, 1], inplace=True)"
   ]
  },
  {
   "cell_type": "code",
   "execution_count": 591,
   "metadata": {},
   "outputs": [
    {
     "name": "stdout",
     "output_type": "stream",
     "text": [
      "   age  ed  employ  address  income  debtinc   creddebt   othdebt  default\n",
      "0   41   3      17       12     176      9.3  11.359392  5.008608        1\n",
      "1   27   1      10        6      31     17.3   1.362202  4.000798        0\n",
      "2   40   1      15       14      55      5.5   0.856075  2.168925        0\n",
      "3   41   1      15       14     120      2.9   2.658720  0.821280        0\n",
      "4   24   2       2        0      28     17.3   1.787436  3.056564        1\n",
      "(700, 9)\n"
     ]
    }
   ],
   "source": [
    "print(df.head())\n",
    "print(df.shape)"
   ]
  },
  {
   "attachments": {},
   "cell_type": "markdown",
   "metadata": {},
   "source": [
    "## Split data"
   ]
  },
  {
   "cell_type": "code",
   "execution_count": 592,
   "metadata": {},
   "outputs": [],
   "source": [
    "# split data\n",
    "df_full_train, df_test = train_test_split(df, test_size = 0.2, random_state = 11)\n",
    "df_train, df_val = train_test_split(df_full_train, test_size = 0.25, random_state = 11)"
   ]
  },
  {
   "cell_type": "code",
   "execution_count": 593,
   "metadata": {},
   "outputs": [
    {
     "data": {
      "text/plain": [
       "(560, 420, 140, 140)"
      ]
     },
     "execution_count": 593,
     "metadata": {},
     "output_type": "execute_result"
    }
   ],
   "source": [
    "len(df_full_train), len(df_train), len(df_val), len(df_test)"
   ]
  },
  {
   "cell_type": "code",
   "execution_count": 594,
   "metadata": {},
   "outputs": [],
   "source": [
    "# to make the above shuffle data sequential \n",
    "X_train = df_train.reset_index(drop = True)\n",
    "X_val = df_val.reset_index(drop = True)\n",
    "X_test = df_test.reset_index(drop = True)"
   ]
  },
  {
   "cell_type": "code",
   "execution_count": 595,
   "metadata": {},
   "outputs": [],
   "source": [
    "# decode the target values from string to int\n",
    "y_train = df_train.default\n",
    "y_val = df_val.default\n",
    "y_test = df_test.default"
   ]
  },
  {
   "cell_type": "code",
   "execution_count": 596,
   "metadata": {},
   "outputs": [],
   "source": [
    "# remove the default variables \n",
    "del X_train['default']\n",
    "del X_val['default']\n",
    "del X_test['default']"
   ]
  },
  {
   "attachments": {},
   "cell_type": "markdown",
   "metadata": {},
   "source": [
    "#### DecisionTree"
   ]
  },
  {
   "attachments": {},
   "cell_type": "markdown",
   "metadata": {},
   "source": [
    "##### train"
   ]
  },
  {
   "cell_type": "code",
   "execution_count": 597,
   "metadata": {},
   "outputs": [
    {
     "data": {
      "text/html": [
       "<style>#sk-container-id-112 {color: black;background-color: white;}#sk-container-id-112 pre{padding: 0;}#sk-container-id-112 div.sk-toggleable {background-color: white;}#sk-container-id-112 label.sk-toggleable__label {cursor: pointer;display: block;width: 100%;margin-bottom: 0;padding: 0.3em;box-sizing: border-box;text-align: center;}#sk-container-id-112 label.sk-toggleable__label-arrow:before {content: \"▸\";float: left;margin-right: 0.25em;color: #696969;}#sk-container-id-112 label.sk-toggleable__label-arrow:hover:before {color: black;}#sk-container-id-112 div.sk-estimator:hover label.sk-toggleable__label-arrow:before {color: black;}#sk-container-id-112 div.sk-toggleable__content {max-height: 0;max-width: 0;overflow: hidden;text-align: left;background-color: #f0f8ff;}#sk-container-id-112 div.sk-toggleable__content pre {margin: 0.2em;color: black;border-radius: 0.25em;background-color: #f0f8ff;}#sk-container-id-112 input.sk-toggleable__control:checked~div.sk-toggleable__content {max-height: 200px;max-width: 100%;overflow: auto;}#sk-container-id-112 input.sk-toggleable__control:checked~label.sk-toggleable__label-arrow:before {content: \"▾\";}#sk-container-id-112 div.sk-estimator input.sk-toggleable__control:checked~label.sk-toggleable__label {background-color: #d4ebff;}#sk-container-id-112 div.sk-label input.sk-toggleable__control:checked~label.sk-toggleable__label {background-color: #d4ebff;}#sk-container-id-112 input.sk-hidden--visually {border: 0;clip: rect(1px 1px 1px 1px);clip: rect(1px, 1px, 1px, 1px);height: 1px;margin: -1px;overflow: hidden;padding: 0;position: absolute;width: 1px;}#sk-container-id-112 div.sk-estimator {font-family: monospace;background-color: #f0f8ff;border: 1px dotted black;border-radius: 0.25em;box-sizing: border-box;margin-bottom: 0.5em;}#sk-container-id-112 div.sk-estimator:hover {background-color: #d4ebff;}#sk-container-id-112 div.sk-parallel-item::after {content: \"\";width: 100%;border-bottom: 1px solid gray;flex-grow: 1;}#sk-container-id-112 div.sk-label:hover label.sk-toggleable__label {background-color: #d4ebff;}#sk-container-id-112 div.sk-serial::before {content: \"\";position: absolute;border-left: 1px solid gray;box-sizing: border-box;top: 0;bottom: 0;left: 50%;z-index: 0;}#sk-container-id-112 div.sk-serial {display: flex;flex-direction: column;align-items: center;background-color: white;padding-right: 0.2em;padding-left: 0.2em;position: relative;}#sk-container-id-112 div.sk-item {position: relative;z-index: 1;}#sk-container-id-112 div.sk-parallel {display: flex;align-items: stretch;justify-content: center;background-color: white;position: relative;}#sk-container-id-112 div.sk-item::before, #sk-container-id-112 div.sk-parallel-item::before {content: \"\";position: absolute;border-left: 1px solid gray;box-sizing: border-box;top: 0;bottom: 0;left: 50%;z-index: -1;}#sk-container-id-112 div.sk-parallel-item {display: flex;flex-direction: column;z-index: 1;position: relative;background-color: white;}#sk-container-id-112 div.sk-parallel-item:first-child::after {align-self: flex-end;width: 50%;}#sk-container-id-112 div.sk-parallel-item:last-child::after {align-self: flex-start;width: 50%;}#sk-container-id-112 div.sk-parallel-item:only-child::after {width: 0;}#sk-container-id-112 div.sk-dashed-wrapped {border: 1px dashed gray;margin: 0 0.4em 0.5em 0.4em;box-sizing: border-box;padding-bottom: 0.4em;background-color: white;}#sk-container-id-112 div.sk-label label {font-family: monospace;font-weight: bold;display: inline-block;line-height: 1.2em;}#sk-container-id-112 div.sk-label-container {text-align: center;}#sk-container-id-112 div.sk-container {/* jupyter's `normalize.less` sets `[hidden] { display: none; }` but bootstrap.min.css set `[hidden] { display: none !important; }` so we also need the `!important` here to be able to override the default hidden behavior on the sphinx rendered scikit-learn.org. See: https://github.com/scikit-learn/scikit-learn/issues/21755 */display: inline-block !important;position: relative;}#sk-container-id-112 div.sk-text-repr-fallback {display: none;}</style><div id=\"sk-container-id-112\" class=\"sk-top-container\"><div class=\"sk-text-repr-fallback\"><pre>DecisionTreeClassifier()</pre><b>In a Jupyter environment, please rerun this cell to show the HTML representation or trust the notebook. <br />On GitHub, the HTML representation is unable to render, please try loading this page with nbviewer.org.</b></div><div class=\"sk-container\" hidden><div class=\"sk-item\"><div class=\"sk-estimator sk-toggleable\"><input class=\"sk-toggleable__control sk-hidden--visually\" id=\"sk-estimator-id-112\" type=\"checkbox\" checked><label for=\"sk-estimator-id-112\" class=\"sk-toggleable__label sk-toggleable__label-arrow\">DecisionTreeClassifier</label><div class=\"sk-toggleable__content\"><pre>DecisionTreeClassifier()</pre></div></div></div></div></div>"
      ],
      "text/plain": [
       "DecisionTreeClassifier()"
      ]
     },
     "execution_count": 597,
     "metadata": {},
     "output_type": "execute_result"
    }
   ],
   "source": [
    "# fit the decision tree \n",
    "dt = DecisionTreeClassifier(random_state=11)\n",
    "dt.fit(X_train, y_train)"
   ]
  },
  {
   "attachments": {},
   "cell_type": "markdown",
   "metadata": {},
   "source": [
    "##### validation"
   ]
  },
  {
   "cell_type": "code",
   "execution_count": 598,
   "metadata": {},
   "outputs": [
    {
     "data": {
      "text/plain": [
       "array([0., 1., 0., 1., 0., 1., 0., 0., 1., 0., 0., 1., 0., 0., 0., 0., 1.,\n",
       "       0., 1., 1., 0., 0., 1., 1., 1., 0., 1., 0., 0., 1., 0., 1., 0., 0.,\n",
       "       0., 1., 0., 0., 0., 0., 0., 0., 0., 1., 0., 1., 1., 0., 1., 1., 1.,\n",
       "       0., 0., 0., 0., 0., 0., 0., 0., 0., 0., 1., 1., 0., 0., 0., 0., 1.,\n",
       "       0., 0., 0., 0., 0., 0., 1., 0., 1., 1., 0., 0., 0., 0., 0., 0., 1.,\n",
       "       1., 0., 0., 0., 0., 0., 0., 0., 1., 0., 0., 1., 0., 1., 0., 0., 0.,\n",
       "       1., 0., 0., 0., 1., 1., 0., 1., 1., 0., 1., 1., 1., 0., 0., 0., 1.,\n",
       "       0., 1., 1., 0., 1., 0., 0., 0., 0., 1., 0., 0., 0., 0., 0., 0., 0.,\n",
       "       0., 1., 0., 1.])"
      ]
     },
     "execution_count": 598,
     "metadata": {},
     "output_type": "execute_result"
    }
   ],
   "source": [
    "y_pred = dt.predict_proba(X_val)[:, 1]\n",
    "y_pred"
   ]
  },
  {
   "cell_type": "code",
   "execution_count": 599,
   "metadata": {},
   "outputs": [
    {
     "data": {
      "text/plain": [
       "0.5809523809523809"
      ]
     },
     "execution_count": 599,
     "metadata": {},
     "output_type": "execute_result"
    }
   ],
   "source": [
    "roc_auc_score(y_val, y_pred)"
   ]
  },
  {
   "cell_type": "code",
   "execution_count": 600,
   "metadata": {},
   "outputs": [
    {
     "data": {
      "text/plain": [
       "1.0"
      ]
     },
     "execution_count": 600,
     "metadata": {},
     "output_type": "execute_result"
    }
   ],
   "source": [
    "# check roc score for the training datasets \n",
    "y_pred = dt.predict_proba(X_train)[:, 1]\n",
    "roc_auc_score(y_train, y_pred)"
   ]
  },
  {
   "attachments": {},
   "cell_type": "markdown",
   "metadata": {},
   "source": [
    "##### parameter tuning"
   ]
  },
  {
   "cell_type": "code",
   "execution_count": 601,
   "metadata": {},
   "outputs": [
    {
     "name": "stdout",
     "output_type": "stream",
     "text": [
      "(   2, 001) - > 0.773\n",
      "(   2, 002) - > 0.773\n",
      "(   2, 005) - > 0.773\n",
      "(   2, 010) - > 0.773\n",
      "(   2, 015) - > 0.773\n",
      "(   2, 020) - > 0.773\n",
      "(   2, 050) - > 0.771\n",
      "(   2, 100) - > 0.813\n",
      "(   2, 200) - > 0.729\n",
      "(   2, 500) - > 0.500\n",
      "(   3, 001) - > 0.788\n",
      "(   3, 002) - > 0.788\n",
      "(   3, 005) - > 0.789\n",
      "(   3, 010) - > 0.778\n",
      "(   3, 015) - > 0.740\n",
      "(   3, 020) - > 0.774\n",
      "(   3, 050) - > 0.783\n",
      "(   3, 100) - > 0.806\n",
      "(   3, 200) - > 0.729\n",
      "(   3, 500) - > 0.500\n",
      "(   4, 001) - > 0.762\n",
      "(   4, 002) - > 0.787\n",
      "(   4, 005) - > 0.788\n",
      "(   4, 010) - > 0.767\n",
      "(   4, 015) - > 0.704\n",
      "(   4, 020) - > 0.751\n",
      "(   4, 050) - > 0.784\n",
      "(   4, 100) - > 0.806\n",
      "(   4, 200) - > 0.729\n",
      "(   4, 500) - > 0.500\n",
      "(   5, 001) - > 0.722\n",
      "(   5, 002) - > 0.760\n",
      "(   5, 005) - > 0.703\n",
      "(   5, 010) - > 0.736\n",
      "(   5, 015) - > 0.700\n",
      "(   5, 020) - > 0.735\n",
      "(   5, 050) - > 0.784\n",
      "(   5, 100) - > 0.806\n",
      "(   5, 200) - > 0.729\n",
      "(   5, 500) - > 0.500\n",
      "(   6, 001) - > 0.729\n",
      "(   6, 002) - > 0.769\n",
      "(   6, 005) - > 0.703\n",
      "(   6, 010) - > 0.741\n",
      "(   6, 015) - > 0.715\n",
      "(   6, 020) - > 0.746\n",
      "(   6, 050) - > 0.784\n",
      "(   6, 100) - > 0.806\n",
      "(   6, 200) - > 0.729\n",
      "(   6, 500) - > 0.500\n",
      "(   7, 001) - > 0.724\n",
      "(   7, 002) - > 0.780\n",
      "(   7, 005) - > 0.701\n",
      "(   7, 010) - > 0.741\n",
      "(   7, 015) - > 0.724\n",
      "(   7, 020) - > 0.746\n",
      "(   7, 050) - > 0.784\n",
      "(   7, 100) - > 0.806\n",
      "(   7, 200) - > 0.729\n",
      "(   7, 500) - > 0.500\n",
      "(  10, 001) - > 0.671\n",
      "(  10, 002) - > 0.679\n",
      "(  10, 005) - > 0.727\n",
      "(  10, 010) - > 0.740\n",
      "(  10, 015) - > 0.725\n",
      "(  10, 020) - > 0.746\n",
      "(  10, 050) - > 0.784\n",
      "(  10, 100) - > 0.806\n",
      "(  10, 200) - > 0.729\n",
      "(  10, 500) - > 0.500\n",
      "(  14, 001) - > 0.671\n",
      "(  14, 002) - > 0.659\n",
      "(  14, 005) - > 0.721\n",
      "(  14, 010) - > 0.739\n",
      "(  14, 015) - > 0.725\n",
      "(  14, 020) - > 0.745\n",
      "(  14, 050) - > 0.784\n",
      "(  14, 100) - > 0.806\n",
      "(  14, 200) - > 0.729\n",
      "(  14, 500) - > 0.500\n",
      "(  16, 001) - > 0.543\n",
      "(  16, 002) - > 0.717\n",
      "(  16, 005) - > 0.685\n",
      "(  16, 010) - > 0.756\n",
      "(  16, 015) - > 0.724\n",
      "(  16, 020) - > 0.745\n",
      "(  16, 050) - > 0.784\n",
      "(  16, 100) - > 0.806\n",
      "(  16, 200) - > 0.729\n",
      "(  16, 500) - > 0.500\n",
      "(  17, 001) - > 0.657\n",
      "(  17, 002) - > 0.671\n",
      "(  17, 005) - > 0.698\n",
      "(  17, 010) - > 0.730\n",
      "(  17, 015) - > 0.724\n",
      "(  17, 020) - > 0.746\n",
      "(  17, 050) - > 0.784\n",
      "(  17, 100) - > 0.806\n",
      "(  17, 200) - > 0.729\n",
      "(  17, 500) - > 0.500\n",
      "(  18, 001) - > 0.657\n",
      "(  18, 002) - > 0.679\n",
      "(  18, 005) - > 0.690\n",
      "(  18, 010) - > 0.747\n",
      "(  18, 015) - > 0.724\n",
      "(  18, 020) - > 0.745\n",
      "(  18, 050) - > 0.784\n",
      "(  18, 100) - > 0.806\n",
      "(  18, 200) - > 0.729\n",
      "(  18, 500) - > 0.500\n"
     ]
    }
   ],
   "source": [
    "# tuning the parameter  (min_samples_leaf)\n",
    "for d in [2,3,4,5,6,7, 10, 14,16,17,18]: # this figures are the best max depth from the result derived above\n",
    "  for s in [1,2,5,10,15,20,50,100,200,500]:\n",
    "    dt = DecisionTreeClassifier(max_depth = d, min_samples_leaf = s)\n",
    "    dt.fit(X_train, y_train)\n",
    "\n",
    "    y_pred = dt.predict_proba(X_val)[:, 1]\n",
    "    auc = roc_auc_score(y_val, y_pred)\n",
    "\n",
    "    print('(%4s, %.3d) - > %.3f' % (d, s, auc))"
   ]
  },
  {
   "cell_type": "code",
   "execution_count": 602,
   "metadata": {},
   "outputs": [],
   "source": [
    "# put the result in  a dataframe\n",
    "scores =[]\n",
    "\n",
    "for d in [2,3,4,5,6,7, 10, 14,16,17,18]: # this figures are the best max depth from the result derived above\n",
    "  for s in [1,2,3,4,5,10,15,20,50,100,200,500,1000]:# we can also restrict the depth of leaf using 'None'\n",
    "    dt = DecisionTreeClassifier(max_depth = d, min_samples_leaf = s)\n",
    "    dt.fit(X_train, y_train)\n",
    "\n",
    "    y_pred = dt.predict_proba(X_val)[:, 1]\n",
    "    auc = roc_auc_score(y_val, y_pred)\n",
    "    \n",
    "    scores.append((d, s, auc))"
   ]
  },
  {
   "cell_type": "code",
   "execution_count": 603,
   "metadata": {},
   "outputs": [
    {
     "data": {
      "text/html": [
       "<div>\n",
       "<style scoped>\n",
       "    .dataframe tbody tr th:only-of-type {\n",
       "        vertical-align: middle;\n",
       "    }\n",
       "\n",
       "    .dataframe tbody tr th {\n",
       "        vertical-align: top;\n",
       "    }\n",
       "\n",
       "    .dataframe thead th {\n",
       "        text-align: right;\n",
       "    }\n",
       "</style>\n",
       "<table border=\"1\" class=\"dataframe\">\n",
       "  <thead>\n",
       "    <tr style=\"text-align: right;\">\n",
       "      <th></th>\n",
       "      <th>max_depth</th>\n",
       "      <th>min_samples_leaf</th>\n",
       "      <th>auc</th>\n",
       "    </tr>\n",
       "  </thead>\n",
       "  <tbody>\n",
       "    <tr>\n",
       "      <th>0</th>\n",
       "      <td>2</td>\n",
       "      <td>1</td>\n",
       "      <td>0.772517</td>\n",
       "    </tr>\n",
       "    <tr>\n",
       "      <th>1</th>\n",
       "      <td>2</td>\n",
       "      <td>2</td>\n",
       "      <td>0.772517</td>\n",
       "    </tr>\n",
       "    <tr>\n",
       "      <th>2</th>\n",
       "      <td>2</td>\n",
       "      <td>3</td>\n",
       "      <td>0.772517</td>\n",
       "    </tr>\n",
       "    <tr>\n",
       "      <th>3</th>\n",
       "      <td>2</td>\n",
       "      <td>4</td>\n",
       "      <td>0.772517</td>\n",
       "    </tr>\n",
       "    <tr>\n",
       "      <th>4</th>\n",
       "      <td>2</td>\n",
       "      <td>5</td>\n",
       "      <td>0.772517</td>\n",
       "    </tr>\n",
       "  </tbody>\n",
       "</table>\n",
       "</div>"
      ],
      "text/plain": [
       "   max_depth  min_samples_leaf       auc\n",
       "0          2                 1  0.772517\n",
       "1          2                 2  0.772517\n",
       "2          2                 3  0.772517\n",
       "3          2                 4  0.772517\n",
       "4          2                 5  0.772517"
      ]
     },
     "execution_count": 603,
     "metadata": {},
     "output_type": "execute_result"
    }
   ],
   "source": [
    "columns = ['max_depth', 'min_samples_leaf', 'auc']\n",
    "df_scores = pd.DataFrame(scores, columns = columns)\n",
    "df_scores.head()"
   ]
  },
  {
   "cell_type": "code",
   "execution_count": 604,
   "metadata": {},
   "outputs": [
    {
     "data": {
      "text/html": [
       "<div>\n",
       "<style scoped>\n",
       "    .dataframe tbody tr th:only-of-type {\n",
       "        vertical-align: middle;\n",
       "    }\n",
       "\n",
       "    .dataframe tbody tr th {\n",
       "        vertical-align: top;\n",
       "    }\n",
       "\n",
       "    .dataframe thead th {\n",
       "        text-align: right;\n",
       "    }\n",
       "</style>\n",
       "<table border=\"1\" class=\"dataframe\">\n",
       "  <thead>\n",
       "    <tr style=\"text-align: right;\">\n",
       "      <th></th>\n",
       "      <th>max_depth</th>\n",
       "      <th>min_samples_leaf</th>\n",
       "      <th>auc</th>\n",
       "    </tr>\n",
       "  </thead>\n",
       "  <tbody>\n",
       "    <tr>\n",
       "      <th>9</th>\n",
       "      <td>2</td>\n",
       "      <td>100</td>\n",
       "      <td>0.812653</td>\n",
       "    </tr>\n",
       "    <tr>\n",
       "      <th>22</th>\n",
       "      <td>3</td>\n",
       "      <td>100</td>\n",
       "      <td>0.805578</td>\n",
       "    </tr>\n",
       "    <tr>\n",
       "      <th>61</th>\n",
       "      <td>6</td>\n",
       "      <td>100</td>\n",
       "      <td>0.805578</td>\n",
       "    </tr>\n",
       "    <tr>\n",
       "      <th>74</th>\n",
       "      <td>7</td>\n",
       "      <td>100</td>\n",
       "      <td>0.805578</td>\n",
       "    </tr>\n",
       "    <tr>\n",
       "      <th>87</th>\n",
       "      <td>10</td>\n",
       "      <td>100</td>\n",
       "      <td>0.805578</td>\n",
       "    </tr>\n",
       "    <tr>\n",
       "      <th>...</th>\n",
       "      <td>...</td>\n",
       "      <td>...</td>\n",
       "      <td>...</td>\n",
       "    </tr>\n",
       "    <tr>\n",
       "      <th>51</th>\n",
       "      <td>5</td>\n",
       "      <td>1000</td>\n",
       "      <td>0.500000</td>\n",
       "    </tr>\n",
       "    <tr>\n",
       "      <th>76</th>\n",
       "      <td>7</td>\n",
       "      <td>500</td>\n",
       "      <td>0.500000</td>\n",
       "    </tr>\n",
       "    <tr>\n",
       "      <th>63</th>\n",
       "      <td>6</td>\n",
       "      <td>500</td>\n",
       "      <td>0.500000</td>\n",
       "    </tr>\n",
       "    <tr>\n",
       "      <th>103</th>\n",
       "      <td>14</td>\n",
       "      <td>1000</td>\n",
       "      <td>0.500000</td>\n",
       "    </tr>\n",
       "    <tr>\n",
       "      <th>142</th>\n",
       "      <td>18</td>\n",
       "      <td>1000</td>\n",
       "      <td>0.500000</td>\n",
       "    </tr>\n",
       "  </tbody>\n",
       "</table>\n",
       "<p>143 rows × 3 columns</p>\n",
       "</div>"
      ],
      "text/plain": [
       "     max_depth  min_samples_leaf       auc\n",
       "9            2               100  0.812653\n",
       "22           3               100  0.805578\n",
       "61           6               100  0.805578\n",
       "74           7               100  0.805578\n",
       "87          10               100  0.805578\n",
       "..         ...               ...       ...\n",
       "51           5              1000  0.500000\n",
       "76           7               500  0.500000\n",
       "63           6               500  0.500000\n",
       "103         14              1000  0.500000\n",
       "142         18              1000  0.500000\n",
       "\n",
       "[143 rows x 3 columns]"
      ]
     },
     "execution_count": 604,
     "metadata": {},
     "output_type": "execute_result"
    }
   ],
   "source": [
    "# sort the result in ascending\n",
    "df_scores.sort_values(by = 'auc',ascending = False)"
   ]
  },
  {
   "cell_type": "code",
   "execution_count": 605,
   "metadata": {},
   "outputs": [
    {
     "data": {
      "text/html": [
       "<div>\n",
       "<style scoped>\n",
       "    .dataframe tbody tr th:only-of-type {\n",
       "        vertical-align: middle;\n",
       "    }\n",
       "\n",
       "    .dataframe tbody tr th {\n",
       "        vertical-align: top;\n",
       "    }\n",
       "\n",
       "    .dataframe thead tr th {\n",
       "        text-align: left;\n",
       "    }\n",
       "\n",
       "    .dataframe thead tr:last-of-type th {\n",
       "        text-align: right;\n",
       "    }\n",
       "</style>\n",
       "<table border=\"1\" class=\"dataframe\">\n",
       "  <thead>\n",
       "    <tr>\n",
       "      <th></th>\n",
       "      <th colspan=\"11\" halign=\"left\">auc</th>\n",
       "    </tr>\n",
       "    <tr>\n",
       "      <th>max_depth</th>\n",
       "      <th>2</th>\n",
       "      <th>3</th>\n",
       "      <th>4</th>\n",
       "      <th>5</th>\n",
       "      <th>6</th>\n",
       "      <th>7</th>\n",
       "      <th>10</th>\n",
       "      <th>14</th>\n",
       "      <th>16</th>\n",
       "      <th>17</th>\n",
       "      <th>18</th>\n",
       "    </tr>\n",
       "    <tr>\n",
       "      <th>min_samples_leaf</th>\n",
       "      <th></th>\n",
       "      <th></th>\n",
       "      <th></th>\n",
       "      <th></th>\n",
       "      <th></th>\n",
       "      <th></th>\n",
       "      <th></th>\n",
       "      <th></th>\n",
       "      <th></th>\n",
       "      <th></th>\n",
       "      <th></th>\n",
       "    </tr>\n",
       "  </thead>\n",
       "  <tbody>\n",
       "    <tr>\n",
       "      <th>1</th>\n",
       "      <td>0.773</td>\n",
       "      <td>0.788</td>\n",
       "      <td>0.762</td>\n",
       "      <td>0.749</td>\n",
       "      <td>0.728</td>\n",
       "      <td>0.724</td>\n",
       "      <td>0.626</td>\n",
       "      <td>0.657</td>\n",
       "      <td>0.629</td>\n",
       "      <td>0.671</td>\n",
       "      <td>0.643</td>\n",
       "    </tr>\n",
       "    <tr>\n",
       "      <th>2</th>\n",
       "      <td>0.773</td>\n",
       "      <td>0.788</td>\n",
       "      <td>0.787</td>\n",
       "      <td>0.760</td>\n",
       "      <td>0.728</td>\n",
       "      <td>0.749</td>\n",
       "      <td>0.705</td>\n",
       "      <td>0.679</td>\n",
       "      <td>0.679</td>\n",
       "      <td>0.662</td>\n",
       "      <td>0.670</td>\n",
       "    </tr>\n",
       "    <tr>\n",
       "      <th>3</th>\n",
       "      <td>0.773</td>\n",
       "      <td>0.788</td>\n",
       "      <td>0.788</td>\n",
       "      <td>0.775</td>\n",
       "      <td>0.753</td>\n",
       "      <td>0.739</td>\n",
       "      <td>0.666</td>\n",
       "      <td>0.686</td>\n",
       "      <td>0.678</td>\n",
       "      <td>0.739</td>\n",
       "      <td>0.676</td>\n",
       "    </tr>\n",
       "    <tr>\n",
       "      <th>4</th>\n",
       "      <td>0.773</td>\n",
       "      <td>0.788</td>\n",
       "      <td>0.787</td>\n",
       "      <td>0.703</td>\n",
       "      <td>0.689</td>\n",
       "      <td>0.689</td>\n",
       "      <td>0.688</td>\n",
       "      <td>0.682</td>\n",
       "      <td>0.689</td>\n",
       "      <td>0.694</td>\n",
       "      <td>0.697</td>\n",
       "    </tr>\n",
       "    <tr>\n",
       "      <th>5</th>\n",
       "      <td>0.773</td>\n",
       "      <td>0.789</td>\n",
       "      <td>0.789</td>\n",
       "      <td>0.701</td>\n",
       "      <td>0.693</td>\n",
       "      <td>0.705</td>\n",
       "      <td>0.701</td>\n",
       "      <td>0.689</td>\n",
       "      <td>0.687</td>\n",
       "      <td>0.715</td>\n",
       "      <td>0.694</td>\n",
       "    </tr>\n",
       "    <tr>\n",
       "      <th>10</th>\n",
       "      <td>0.773</td>\n",
       "      <td>0.778</td>\n",
       "      <td>0.767</td>\n",
       "      <td>0.715</td>\n",
       "      <td>0.742</td>\n",
       "      <td>0.734</td>\n",
       "      <td>0.741</td>\n",
       "      <td>0.736</td>\n",
       "      <td>0.740</td>\n",
       "      <td>0.727</td>\n",
       "      <td>0.725</td>\n",
       "    </tr>\n",
       "    <tr>\n",
       "      <th>15</th>\n",
       "      <td>0.773</td>\n",
       "      <td>0.740</td>\n",
       "      <td>0.704</td>\n",
       "      <td>0.700</td>\n",
       "      <td>0.716</td>\n",
       "      <td>0.725</td>\n",
       "      <td>0.724</td>\n",
       "      <td>0.724</td>\n",
       "      <td>0.724</td>\n",
       "      <td>0.724</td>\n",
       "      <td>0.725</td>\n",
       "    </tr>\n",
       "    <tr>\n",
       "      <th>20</th>\n",
       "      <td>0.773</td>\n",
       "      <td>0.774</td>\n",
       "      <td>0.751</td>\n",
       "      <td>0.735</td>\n",
       "      <td>0.746</td>\n",
       "      <td>0.745</td>\n",
       "      <td>0.745</td>\n",
       "      <td>0.746</td>\n",
       "      <td>0.746</td>\n",
       "      <td>0.746</td>\n",
       "      <td>0.745</td>\n",
       "    </tr>\n",
       "    <tr>\n",
       "      <th>50</th>\n",
       "      <td>0.771</td>\n",
       "      <td>0.783</td>\n",
       "      <td>0.784</td>\n",
       "      <td>0.784</td>\n",
       "      <td>0.784</td>\n",
       "      <td>0.784</td>\n",
       "      <td>0.784</td>\n",
       "      <td>0.784</td>\n",
       "      <td>0.784</td>\n",
       "      <td>0.784</td>\n",
       "      <td>0.784</td>\n",
       "    </tr>\n",
       "    <tr>\n",
       "      <th>100</th>\n",
       "      <td>0.813</td>\n",
       "      <td>0.806</td>\n",
       "      <td>0.806</td>\n",
       "      <td>0.806</td>\n",
       "      <td>0.806</td>\n",
       "      <td>0.806</td>\n",
       "      <td>0.806</td>\n",
       "      <td>0.806</td>\n",
       "      <td>0.806</td>\n",
       "      <td>0.806</td>\n",
       "      <td>0.806</td>\n",
       "    </tr>\n",
       "    <tr>\n",
       "      <th>200</th>\n",
       "      <td>0.729</td>\n",
       "      <td>0.729</td>\n",
       "      <td>0.729</td>\n",
       "      <td>0.729</td>\n",
       "      <td>0.729</td>\n",
       "      <td>0.729</td>\n",
       "      <td>0.729</td>\n",
       "      <td>0.729</td>\n",
       "      <td>0.729</td>\n",
       "      <td>0.729</td>\n",
       "      <td>0.729</td>\n",
       "    </tr>\n",
       "    <tr>\n",
       "      <th>500</th>\n",
       "      <td>0.500</td>\n",
       "      <td>0.500</td>\n",
       "      <td>0.500</td>\n",
       "      <td>0.500</td>\n",
       "      <td>0.500</td>\n",
       "      <td>0.500</td>\n",
       "      <td>0.500</td>\n",
       "      <td>0.500</td>\n",
       "      <td>0.500</td>\n",
       "      <td>0.500</td>\n",
       "      <td>0.500</td>\n",
       "    </tr>\n",
       "    <tr>\n",
       "      <th>1000</th>\n",
       "      <td>0.500</td>\n",
       "      <td>0.500</td>\n",
       "      <td>0.500</td>\n",
       "      <td>0.500</td>\n",
       "      <td>0.500</td>\n",
       "      <td>0.500</td>\n",
       "      <td>0.500</td>\n",
       "      <td>0.500</td>\n",
       "      <td>0.500</td>\n",
       "      <td>0.500</td>\n",
       "      <td>0.500</td>\n",
       "    </tr>\n",
       "  </tbody>\n",
       "</table>\n",
       "</div>"
      ],
      "text/plain": [
       "                    auc                                                   \\\n",
       "max_depth            2      3      4      5      6      7      10     14   \n",
       "min_samples_leaf                                                           \n",
       "1                 0.773  0.788  0.762  0.749  0.728  0.724  0.626  0.657   \n",
       "2                 0.773  0.788  0.787  0.760  0.728  0.749  0.705  0.679   \n",
       "3                 0.773  0.788  0.788  0.775  0.753  0.739  0.666  0.686   \n",
       "4                 0.773  0.788  0.787  0.703  0.689  0.689  0.688  0.682   \n",
       "5                 0.773  0.789  0.789  0.701  0.693  0.705  0.701  0.689   \n",
       "10                0.773  0.778  0.767  0.715  0.742  0.734  0.741  0.736   \n",
       "15                0.773  0.740  0.704  0.700  0.716  0.725  0.724  0.724   \n",
       "20                0.773  0.774  0.751  0.735  0.746  0.745  0.745  0.746   \n",
       "50                0.771  0.783  0.784  0.784  0.784  0.784  0.784  0.784   \n",
       "100               0.813  0.806  0.806  0.806  0.806  0.806  0.806  0.806   \n",
       "200               0.729  0.729  0.729  0.729  0.729  0.729  0.729  0.729   \n",
       "500               0.500  0.500  0.500  0.500  0.500  0.500  0.500  0.500   \n",
       "1000              0.500  0.500  0.500  0.500  0.500  0.500  0.500  0.500   \n",
       "\n",
       "                                       \n",
       "max_depth            16     17     18  \n",
       "min_samples_leaf                       \n",
       "1                 0.629  0.671  0.643  \n",
       "2                 0.679  0.662  0.670  \n",
       "3                 0.678  0.739  0.676  \n",
       "4                 0.689  0.694  0.697  \n",
       "5                 0.687  0.715  0.694  \n",
       "10                0.740  0.727  0.725  \n",
       "15                0.724  0.724  0.725  \n",
       "20                0.746  0.746  0.745  \n",
       "50                0.784  0.784  0.784  \n",
       "100               0.806  0.806  0.806  \n",
       "200               0.729  0.729  0.729  \n",
       "500               0.500  0.500  0.500  \n",
       "1000              0.500  0.500  0.500  "
      ]
     },
     "execution_count": 605,
     "metadata": {},
     "output_type": "execute_result"
    }
   ],
   "source": [
    "df_scores.pivot = df_scores.pivot(index = ['min_samples_leaf'], \n",
    "                                  columns= ['max_depth'], values = ['auc'])\n",
    "df_scores.pivot.round(3)  # round to reduce the decimal points "
   ]
  },
  {
   "cell_type": "code",
   "execution_count": 606,
   "metadata": {},
   "outputs": [
    {
     "data": {
      "text/plain": [
       "<Axes: xlabel='None-max_depth', ylabel='min_samples_leaf'>"
      ]
     },
     "execution_count": 606,
     "metadata": {},
     "output_type": "execute_result"
    },
    {
     "data": {
      "image/png": "[encoded data removed]",
      "text/plain": [
       "<Figure size 1200x600 with 2 Axes>"
      ]
     },
     "metadata": {},
     "output_type": "display_data"
    }
   ],
   "source": [
    "# visualise the result with heatmap\n",
    "import seaborn as sns\n",
    "\n",
    "# Set figure size\n",
    "plt.figure(figsize=(12,6))\n",
    "sns.heatmap(df_scores.pivot, annot = True, fmt = '.3f')\n"
   ]
  },
  {
   "cell_type": "code",
   "execution_count": 607,
   "metadata": {},
   "outputs": [
    {
     "data": {
      "text/html": [
       "<style>#sk-container-id-113 {color: black;background-color: white;}#sk-container-id-113 pre{padding: 0;}#sk-container-id-113 div.sk-toggleable {background-color: white;}#sk-container-id-113 label.sk-toggleable__label {cursor: pointer;display: block;width: 100%;margin-bottom: 0;padding: 0.3em;box-sizing: border-box;text-align: center;}#sk-container-id-113 label.sk-toggleable__label-arrow:before {content: \"▸\";float: left;margin-right: 0.25em;color: #696969;}#sk-container-id-113 label.sk-toggleable__label-arrow:hover:before {color: black;}#sk-container-id-113 div.sk-estimator:hover label.sk-toggleable__label-arrow:before {color: black;}#sk-container-id-113 div.sk-toggleable__content {max-height: 0;max-width: 0;overflow: hidden;text-align: left;background-color: #f0f8ff;}#sk-container-id-113 div.sk-toggleable__content pre {margin: 0.2em;color: black;border-radius: 0.25em;background-color: #f0f8ff;}#sk-container-id-113 input.sk-toggleable__control:checked~div.sk-toggleable__content {max-height: 200px;max-width: 100%;overflow: auto;}#sk-container-id-113 input.sk-toggleable__control:checked~label.sk-toggleable__label-arrow:before {content: \"▾\";}#sk-container-id-113 div.sk-estimator input.sk-toggleable__control:checked~label.sk-toggleable__label {background-color: #d4ebff;}#sk-container-id-113 div.sk-label input.sk-toggleable__control:checked~label.sk-toggleable__label {background-color: #d4ebff;}#sk-container-id-113 input.sk-hidden--visually {border: 0;clip: rect(1px 1px 1px 1px);clip: rect(1px, 1px, 1px, 1px);height: 1px;margin: -1px;overflow: hidden;padding: 0;position: absolute;width: 1px;}#sk-container-id-113 div.sk-estimator {font-family: monospace;background-color: #f0f8ff;border: 1px dotted black;border-radius: 0.25em;box-sizing: border-box;margin-bottom: 0.5em;}#sk-container-id-113 div.sk-estimator:hover {background-color: #d4ebff;}#sk-container-id-113 div.sk-parallel-item::after {content: \"\";width: 100%;border-bottom: 1px solid gray;flex-grow: 1;}#sk-container-id-113 div.sk-label:hover label.sk-toggleable__label {background-color: #d4ebff;}#sk-container-id-113 div.sk-serial::before {content: \"\";position: absolute;border-left: 1px solid gray;box-sizing: border-box;top: 0;bottom: 0;left: 50%;z-index: 0;}#sk-container-id-113 div.sk-serial {display: flex;flex-direction: column;align-items: center;background-color: white;padding-right: 0.2em;padding-left: 0.2em;position: relative;}#sk-container-id-113 div.sk-item {position: relative;z-index: 1;}#sk-container-id-113 div.sk-parallel {display: flex;align-items: stretch;justify-content: center;background-color: white;position: relative;}#sk-container-id-113 div.sk-item::before, #sk-container-id-113 div.sk-parallel-item::before {content: \"\";position: absolute;border-left: 1px solid gray;box-sizing: border-box;top: 0;bottom: 0;left: 50%;z-index: -1;}#sk-container-id-113 div.sk-parallel-item {display: flex;flex-direction: column;z-index: 1;position: relative;background-color: white;}#sk-container-id-113 div.sk-parallel-item:first-child::after {align-self: flex-end;width: 50%;}#sk-container-id-113 div.sk-parallel-item:last-child::after {align-self: flex-start;width: 50%;}#sk-container-id-113 div.sk-parallel-item:only-child::after {width: 0;}#sk-container-id-113 div.sk-dashed-wrapped {border: 1px dashed gray;margin: 0 0.4em 0.5em 0.4em;box-sizing: border-box;padding-bottom: 0.4em;background-color: white;}#sk-container-id-113 div.sk-label label {font-family: monospace;font-weight: bold;display: inline-block;line-height: 1.2em;}#sk-container-id-113 div.sk-label-container {text-align: center;}#sk-container-id-113 div.sk-container {/* jupyter's `normalize.less` sets `[hidden] { display: none; }` but bootstrap.min.css set `[hidden] { display: none !important; }` so we also need the `!important` here to be able to override the default hidden behavior on the sphinx rendered scikit-learn.org. See: https://github.com/scikit-learn/scikit-learn/issues/21755 */display: inline-block !important;position: relative;}#sk-container-id-113 div.sk-text-repr-fallback {display: none;}</style><div id=\"sk-container-id-113\" class=\"sk-top-container\"><div class=\"sk-text-repr-fallback\"><pre>DecisionTreeClassifier(max_depth=2, min_samples_leaf=100, random_state=1)</pre><b>In a Jupyter environment, please rerun this cell to show the HTML representation or trust the notebook. <br />On GitHub, the HTML representation is unable to render, please try loading this page with nbviewer.org.</b></div><div class=\"sk-container\" hidden><div class=\"sk-item\"><div class=\"sk-estimator sk-toggleable\"><input class=\"sk-toggleable__control sk-hidden--visually\" id=\"sk-estimator-id-113\" type=\"checkbox\" checked><label for=\"sk-estimator-id-113\" class=\"sk-toggleable__label sk-toggleable__label-arrow\">DecisionTreeClassifier</label><div class=\"sk-toggleable__content\"><pre>DecisionTreeClassifier(max_depth=2, min_samples_leaf=100, random_state=1)</pre></div></div></div></div></div>"
      ],
      "text/plain": [
       "DecisionTreeClassifier(max_depth=2, min_samples_leaf=100, random_state=1)"
      ]
     },
     "execution_count": 607,
     "metadata": {},
     "output_type": "execute_result"
    }
   ],
   "source": [
    "# fit the model\n",
    "dt = DecisionTreeClassifier(max_depth = 2, min_samples_leaf = 100, random_state=1)\n",
    "dt.fit(X_train, y_train)"
   ]
  },
  {
   "cell_type": "code",
   "execution_count": 608,
   "metadata": {},
   "outputs": [
    {
     "data": {
      "image/png": "[encoded data removed]",
      "text/plain": [
       "<Figure size 1200x600 with 1 Axes>"
      ]
     },
     "metadata": {},
     "output_type": "display_data"
    }
   ],
   "source": [
    "# Plot decision tree\n",
    "fig, ax = plt.subplots(figsize=(12, 6))\n",
    "plot_tree(dt, ax=ax)\n",
    "plt.show()"
   ]
  },
  {
   "cell_type": "code",
   "execution_count": 609,
   "metadata": {},
   "outputs": [
    {
     "data": {
      "text/plain": [
       "array([0.56862745, 0.3271028 , 0.56862745, 0.56862745, 0.1042654 ,\n",
       "       0.1042654 , 0.3271028 , 0.1042654 , 0.56862745, 0.3271028 ,\n",
       "       0.3271028 , 0.3271028 , 0.3271028 , 0.56862745, 0.1042654 ,\n",
       "       0.56862745, 0.1042654 , 0.56862745, 0.1042654 , 0.56862745,\n",
       "       0.3271028 , 0.1042654 , 0.56862745, 0.1042654 , 0.56862745,\n",
       "       0.1042654 , 0.1042654 , 0.1042654 , 0.1042654 , 0.56862745,\n",
       "       0.1042654 , 0.3271028 , 0.56862745, 0.3271028 , 0.1042654 ,\n",
       "       0.3271028 , 0.56862745, 0.1042654 , 0.1042654 , 0.1042654 ,\n",
       "       0.1042654 , 0.3271028 , 0.56862745, 0.56862745, 0.3271028 ,\n",
       "       0.1042654 , 0.56862745, 0.1042654 , 0.1042654 , 0.3271028 ,\n",
       "       0.3271028 , 0.3271028 , 0.1042654 , 0.1042654 , 0.3271028 ,\n",
       "       0.1042654 , 0.1042654 , 0.3271028 , 0.3271028 , 0.3271028 ,\n",
       "       0.1042654 , 0.3271028 , 0.56862745, 0.56862745, 0.1042654 ,\n",
       "       0.1042654 , 0.1042654 , 0.56862745, 0.1042654 , 0.56862745,\n",
       "       0.56862745, 0.1042654 , 0.1042654 , 0.1042654 , 0.56862745,\n",
       "       0.1042654 , 0.56862745, 0.56862745, 0.1042654 , 0.3271028 ,\n",
       "       0.56862745, 0.56862745, 0.1042654 , 0.1042654 , 0.56862745,\n",
       "       0.56862745, 0.3271028 , 0.3271028 , 0.3271028 , 0.1042654 ,\n",
       "       0.1042654 , 0.1042654 , 0.1042654 , 0.1042654 , 0.1042654 ,\n",
       "       0.1042654 , 0.1042654 , 0.1042654 , 0.1042654 , 0.56862745,\n",
       "       0.1042654 , 0.3271028 , 0.56862745, 0.3271028 , 0.3271028 ,\n",
       "       0.1042654 , 0.3271028 , 0.3271028 , 0.1042654 , 0.56862745,\n",
       "       0.56862745, 0.1042654 , 0.3271028 , 0.1042654 , 0.3271028 ,\n",
       "       0.3271028 , 0.1042654 , 0.1042654 , 0.3271028 , 0.56862745,\n",
       "       0.1042654 , 0.1042654 , 0.3271028 , 0.3271028 , 0.1042654 ,\n",
       "       0.3271028 , 0.1042654 , 0.1042654 , 0.1042654 , 0.1042654 ,\n",
       "       0.1042654 , 0.3271028 , 0.1042654 , 0.3271028 , 0.1042654 ,\n",
       "       0.3271028 , 0.1042654 , 0.56862745, 0.3271028 , 0.3271028 ])"
      ]
     },
     "execution_count": 609,
     "metadata": {},
     "output_type": "execute_result"
    }
   ],
   "source": [
    "y_pred = dt.predict_proba(X_val)[:, 1]\n",
    "y_pred"
   ]
  },
  {
   "cell_type": "code",
   "execution_count": 610,
   "metadata": {},
   "outputs": [
    {
     "data": {
      "text/plain": [
       "0.8126530612244898"
      ]
     },
     "execution_count": 610,
     "metadata": {},
     "output_type": "execute_result"
    }
   ],
   "source": [
    "roc_auc_score(y_val, y_pred)"
   ]
  },
  {
   "attachments": {},
   "cell_type": "markdown",
   "metadata": {},
   "source": [
    "# Rainforest "
   ]
  },
  {
   "attachments": {},
   "cell_type": "markdown",
   "metadata": {},
   "source": [
    "Training"
   ]
  },
  {
   "cell_type": "code",
   "execution_count": 612,
   "metadata": {},
   "outputs": [
    {
     "data": {
      "text/html": [
       "<style>#sk-container-id-114 {color: black;background-color: white;}#sk-container-id-114 pre{padding: 0;}#sk-container-id-114 div.sk-toggleable {background-color: white;}#sk-container-id-114 label.sk-toggleable__label {cursor: pointer;display: block;width: 100%;margin-bottom: 0;padding: 0.3em;box-sizing: border-box;text-align: center;}#sk-container-id-114 label.sk-toggleable__label-arrow:before {content: \"▸\";float: left;margin-right: 0.25em;color: #696969;}#sk-container-id-114 label.sk-toggleable__label-arrow:hover:before {color: black;}#sk-container-id-114 div.sk-estimator:hover label.sk-toggleable__label-arrow:before {color: black;}#sk-container-id-114 div.sk-toggleable__content {max-height: 0;max-width: 0;overflow: hidden;text-align: left;background-color: #f0f8ff;}#sk-container-id-114 div.sk-toggleable__content pre {margin: 0.2em;color: black;border-radius: 0.25em;background-color: #f0f8ff;}#sk-container-id-114 input.sk-toggleable__control:checked~div.sk-toggleable__content {max-height: 200px;max-width: 100%;overflow: auto;}#sk-container-id-114 input.sk-toggleable__control:checked~label.sk-toggleable__label-arrow:before {content: \"▾\";}#sk-container-id-114 div.sk-estimator input.sk-toggleable__control:checked~label.sk-toggleable__label {background-color: #d4ebff;}#sk-container-id-114 div.sk-label input.sk-toggleable__control:checked~label.sk-toggleable__label {background-color: #d4ebff;}#sk-container-id-114 input.sk-hidden--visually {border: 0;clip: rect(1px 1px 1px 1px);clip: rect(1px, 1px, 1px, 1px);height: 1px;margin: -1px;overflow: hidden;padding: 0;position: absolute;width: 1px;}#sk-container-id-114 div.sk-estimator {font-family: monospace;background-color: #f0f8ff;border: 1px dotted black;border-radius: 0.25em;box-sizing: border-box;margin-bottom: 0.5em;}#sk-container-id-114 div.sk-estimator:hover {background-color: #d4ebff;}#sk-container-id-114 div.sk-parallel-item::after {content: \"\";width: 100%;border-bottom: 1px solid gray;flex-grow: 1;}#sk-container-id-114 div.sk-label:hover label.sk-toggleable__label {background-color: #d4ebff;}#sk-container-id-114 div.sk-serial::before {content: \"\";position: absolute;border-left: 1px solid gray;box-sizing: border-box;top: 0;bottom: 0;left: 50%;z-index: 0;}#sk-container-id-114 div.sk-serial {display: flex;flex-direction: column;align-items: center;background-color: white;padding-right: 0.2em;padding-left: 0.2em;position: relative;}#sk-container-id-114 div.sk-item {position: relative;z-index: 1;}#sk-container-id-114 div.sk-parallel {display: flex;align-items: stretch;justify-content: center;background-color: white;position: relative;}#sk-container-id-114 div.sk-item::before, #sk-container-id-114 div.sk-parallel-item::before {content: \"\";position: absolute;border-left: 1px solid gray;box-sizing: border-box;top: 0;bottom: 0;left: 50%;z-index: -1;}#sk-container-id-114 div.sk-parallel-item {display: flex;flex-direction: column;z-index: 1;position: relative;background-color: white;}#sk-container-id-114 div.sk-parallel-item:first-child::after {align-self: flex-end;width: 50%;}#sk-container-id-114 div.sk-parallel-item:last-child::after {align-self: flex-start;width: 50%;}#sk-container-id-114 div.sk-parallel-item:only-child::after {width: 0;}#sk-container-id-114 div.sk-dashed-wrapped {border: 1px dashed gray;margin: 0 0.4em 0.5em 0.4em;box-sizing: border-box;padding-bottom: 0.4em;background-color: white;}#sk-container-id-114 div.sk-label label {font-family: monospace;font-weight: bold;display: inline-block;line-height: 1.2em;}#sk-container-id-114 div.sk-label-container {text-align: center;}#sk-container-id-114 div.sk-container {/* jupyter's `normalize.less` sets `[hidden] { display: none; }` but bootstrap.min.css set `[hidden] { display: none !important; }` so we also need the `!important` here to be able to override the default hidden behavior on the sphinx rendered scikit-learn.org. See: https://github.com/scikit-learn/scikit-learn/issues/21755 */display: inline-block !important;position: relative;}#sk-container-id-114 div.sk-text-repr-fallback {display: none;}</style><div id=\"sk-container-id-114\" class=\"sk-top-container\"><div class=\"sk-text-repr-fallback\"><pre>RandomForestClassifier(random_state=11)</pre><b>In a Jupyter environment, please rerun this cell to show the HTML representation or trust the notebook. <br />On GitHub, the HTML representation is unable to render, please try loading this page with nbviewer.org.</b></div><div class=\"sk-container\" hidden><div class=\"sk-item\"><div class=\"sk-estimator sk-toggleable\"><input class=\"sk-toggleable__control sk-hidden--visually\" id=\"sk-estimator-id-114\" type=\"checkbox\" checked><label for=\"sk-estimator-id-114\" class=\"sk-toggleable__label sk-toggleable__label-arrow\">RandomForestClassifier</label><div class=\"sk-toggleable__content\"><pre>RandomForestClassifier(random_state=11)</pre></div></div></div></div></div>"
      ],
      "text/plain": [
       "RandomForestClassifier(random_state=11)"
      ]
     },
     "execution_count": 612,
     "metadata": {},
     "output_type": "execute_result"
    }
   ],
   "source": [
    "# create randomforest classifier and set n_estimators =10, the default parameter of n_estimators is =100\n",
    "rf = RandomForestClassifier(random_state=11) # then include the random_state for a fix result\n",
    "rf.fit(X_train, y_train)"
   ]
  },
  {
   "attachments": {},
   "cell_type": "markdown",
   "metadata": {},
   "source": [
    "Validation"
   ]
  },
  {
   "cell_type": "code",
   "execution_count": 613,
   "metadata": {},
   "outputs": [
    {
     "data": {
      "text/plain": [
       "0.874421768707483"
      ]
     },
     "execution_count": 613,
     "metadata": {},
     "output_type": "execute_result"
    }
   ],
   "source": [
    "y_pred = rf.predict_proba(X_val)[:, 1]\n",
    "auc = roc_auc_score(y_val, y_pred)\n",
    "auc"
   ]
  },
  {
   "attachments": {},
   "cell_type": "markdown",
   "metadata": {},
   "source": [
    "RaindomForest parameter tuning"
   ]
  },
  {
   "cell_type": "code",
   "execution_count": 614,
   "metadata": {},
   "outputs": [],
   "source": [
    "# including the max depth just like how we have it in decision tree\n",
    "# to get the max_depth\n",
    "scores = []\n",
    "\n",
    "for d in [5, 7, 10, 14, 17, 18]: # this figures are the best max depth from the result derived above\n",
    "  for n in range (10, 101, 10): # we can also restrict the depth of leaf using 'None'\n",
    "    for s in [1,3,4,5,6]:\n",
    "      rf = RandomForestClassifier(n_estimators =n, max_depth = d, min_samples_leaf = s, random_state =11)\n",
    "      rf.fit(X_train, y_train)\n",
    "\n",
    "      y_pred = rf.predict_proba(X_val)[:, 1]\n",
    "      auc = roc_auc_score(y_val, y_pred)\n",
    "      scores.append((d, n, s, auc))"
   ]
  },
  {
   "cell_type": "code",
   "execution_count": 615,
   "metadata": {},
   "outputs": [
    {
     "data": {
      "text/plain": [
       "[(5, 10, 1, 0.8779591836734694),\n",
       " (5, 10, 3, 0.853469387755102),\n",
       " (5, 10, 4, 0.839047619047619),\n",
       " (5, 10, 5, 0.8382312925170068),\n",
       " (5, 10, 6, 0.8455782312925171),\n",
       " (5, 20, 1, 0.8862585034013606),\n",
       " (5, 20, 3, 0.862857142857143),\n",
       " (5, 20, 4, 0.8729251700680272),\n",
       " (5, 20, 5, 0.8604081632653062),\n",
       " (5, 20, 6, 0.8604081632653062),\n",
       " (5, 30, 1, 0.8908843537414967),\n",
       " (5, 30, 3, 0.8620408163265306),\n",
       " (5, 30, 4, 0.8685714285714285),\n",
       " (5, 30, 5, 0.8609523809523809),\n",
       " (5, 30, 6, 0.8565986394557823),\n",
       " (5, 40, 1, 0.8789115646258504),\n",
       " (5, 40, 3, 0.8658503401360543),\n",
       " (5, 40, 4, 0.8723809523809524),\n",
       " (5, 40, 5, 0.8614965986394558),\n",
       " (5, 40, 6, 0.8598639455782313),\n",
       " (5, 50, 1, 0.8759183673469387),\n",
       " (5, 50, 3, 0.8680272108843539),\n",
       " (5, 50, 4, 0.8726530612244898),\n",
       " (5, 50, 5, 0.8672108843537415),\n",
       " (5, 50, 6, 0.865578231292517),\n",
       " (5, 60, 1, 0.877278911564626),\n",
       " (5, 60, 3, 0.867482993197279),\n",
       " (5, 60, 4, 0.8685714285714285),\n",
       " (5, 60, 5, 0.8642176870748299),\n",
       " (5, 60, 6, 0.8568707482993196),\n",
       " (5, 70, 1, 0.8751020408163266),\n",
       " (5, 70, 3, 0.8688435374149659),\n",
       " (5, 70, 4, 0.8699319727891156),\n",
       " (5, 70, 5, 0.8644897959183673),\n",
       " (5, 70, 6, 0.8511564625850341),\n",
       " (5, 80, 1, 0.8778231292517006),\n",
       " (5, 80, 3, 0.8748299319727891),\n",
       " (5, 80, 4, 0.8696598639455783),\n",
       " (5, 80, 5, 0.8661224489795918),\n",
       " (5, 80, 6, 0.8555102040816327),\n",
       " (5, 90, 1, 0.88),\n",
       " (5, 90, 3, 0.8753741496598639),\n",
       " (5, 90, 4, 0.8702040816326531),\n",
       " (5, 90, 5, 0.8661224489795918),\n",
       " (5, 90, 6, 0.8590476190476191),\n",
       " (5, 100, 1, 0.8770068027210884),\n",
       " (5, 100, 3, 0.8729251700680272),\n",
       " (5, 100, 4, 0.8718367346938776),\n",
       " (5, 100, 5, 0.866938775510204),\n",
       " (5, 100, 6, 0.8560544217687075),\n",
       " (7, 10, 1, 0.8398639455782312),\n",
       " (7, 10, 3, 0.827891156462585),\n",
       " (7, 10, 4, 0.8394557823129252),\n",
       " (7, 10, 5, 0.8266666666666667),\n",
       " (7, 10, 6, 0.8235374149659864),\n",
       " (7, 20, 1, 0.8517006802721088),\n",
       " (7, 20, 3, 0.8405442176870748),\n",
       " (7, 20, 4, 0.8650340136054421),\n",
       " (7, 20, 5, 0.8394557823129252),\n",
       " (7, 20, 6, 0.8536054421768707),\n",
       " (7, 30, 1, 0.8647619047619047),\n",
       " (7, 30, 3, 0.8476190476190476),\n",
       " (7, 30, 4, 0.8672108843537414),\n",
       " (7, 30, 5, 0.8476190476190477),\n",
       " (7, 30, 6, 0.8541496598639455),\n",
       " (7, 40, 1, 0.8650340136054422),\n",
       " (7, 40, 3, 0.8574149659863946),\n",
       " (7, 40, 4, 0.8672108843537414),\n",
       " (7, 40, 5, 0.8571428571428572),\n",
       " (7, 40, 6, 0.8593197278911564),\n",
       " (7, 50, 1, 0.865578231292517),\n",
       " (7, 50, 3, 0.8650340136054422),\n",
       " (7, 50, 4, 0.8699319727891157),\n",
       " (7, 50, 5, 0.8677551020408163),\n",
       " (7, 50, 6, 0.8609523809523809),\n",
       " (7, 60, 1, 0.8663945578231292),\n",
       " (7, 60, 3, 0.8663945578231292),\n",
       " (7, 60, 4, 0.867482993197279),\n",
       " (7, 60, 5, 0.8642176870748299),\n",
       " (7, 60, 6, 0.857687074829932),\n",
       " (7, 70, 1, 0.8712925170068028),\n",
       " (7, 70, 3, 0.8631292517006802),\n",
       " (7, 70, 4, 0.8699319727891157),\n",
       " (7, 70, 5, 0.8628571428571429),\n",
       " (7, 70, 6, 0.8639455782312926),\n",
       " (7, 80, 1, 0.8715646258503402),\n",
       " (7, 80, 3, 0.865578231292517),\n",
       " (7, 80, 4, 0.8691156462585032),\n",
       " (7, 80, 5, 0.8604081632653061),\n",
       " (7, 80, 6, 0.8634013605442177),\n",
       " (7, 90, 1, 0.8710204081632653),\n",
       " (7, 90, 3, 0.8672108843537414),\n",
       " (7, 90, 4, 0.870748299319728),\n",
       " (7, 90, 5, 0.8601360544217688),\n",
       " (7, 90, 6, 0.8628571428571428),\n",
       " (7, 100, 1, 0.8737414965986394),\n",
       " (7, 100, 3, 0.8702040816326531),\n",
       " (7, 100, 4, 0.8751020408163266),\n",
       " (7, 100, 5, 0.8620408163265306),\n",
       " (7, 100, 6, 0.8617687074829932),\n",
       " (10, 10, 1, 0.8317006802721087),\n",
       " (10, 10, 3, 0.8247619047619048),\n",
       " (10, 10, 4, 0.854421768707483),\n",
       " (10, 10, 5, 0.8228571428571428),\n",
       " (10, 10, 6, 0.8374149659863945),\n",
       " (10, 20, 1, 0.8688435374149659),\n",
       " (10, 20, 3, 0.849795918367347),\n",
       " (10, 20, 4, 0.868843537414966),\n",
       " (10, 20, 5, 0.8451700680272108),\n",
       " (10, 20, 6, 0.8598639455782312),\n",
       " (10, 30, 1, 0.859591836734694),\n",
       " (10, 30, 3, 0.8489795918367347),\n",
       " (10, 30, 4, 0.865578231292517),\n",
       " (10, 30, 5, 0.8454421768707483),\n",
       " (10, 30, 6, 0.8557823129251702),\n",
       " (10, 40, 1, 0.8653061224489795),\n",
       " (10, 40, 3, 0.854421768707483),\n",
       " (10, 40, 4, 0.8685714285714285),\n",
       " (10, 40, 5, 0.8563265306122448),\n",
       " (10, 40, 6, 0.8639455782312926),\n",
       " (10, 50, 1, 0.875374149659864),\n",
       " (10, 50, 3, 0.8644897959183673),\n",
       " (10, 50, 4, 0.866938775510204),\n",
       " (10, 50, 5, 0.8617687074829932),\n",
       " (10, 50, 6, 0.8644897959183674),\n",
       " (10, 60, 1, 0.872108843537415),\n",
       " (10, 60, 3, 0.8642176870748299),\n",
       " (10, 60, 4, 0.8685714285714285),\n",
       " (10, 60, 5, 0.854421768707483),\n",
       " (10, 60, 6, 0.8606802721088436),\n",
       " (10, 70, 1, 0.8745578231292518),\n",
       " (10, 70, 3, 0.865578231292517),\n",
       " (10, 70, 4, 0.8691156462585035),\n",
       " (10, 70, 5, 0.852517006802721),\n",
       " (10, 70, 6, 0.857687074829932),\n",
       " (10, 80, 1, 0.8775510204081631),\n",
       " (10, 80, 3, 0.8691156462585035),\n",
       " (10, 80, 4, 0.8721088435374149),\n",
       " (10, 80, 5, 0.854421768707483),\n",
       " (10, 80, 6, 0.862312925170068),\n",
       " (10, 90, 1, 0.8800000000000001),\n",
       " (10, 90, 3, 0.867482993197279),\n",
       " (10, 90, 4, 0.8696598639455783),\n",
       " (10, 90, 5, 0.8555102040816327),\n",
       " (10, 90, 6, 0.8614965986394558),\n",
       " (10, 100, 1, 0.8829931972789116),\n",
       " (10, 100, 3, 0.866938775510204),\n",
       " (10, 100, 4, 0.8729251700680273),\n",
       " (10, 100, 5, 0.8574149659863946),\n",
       " (10, 100, 6, 0.8620408163265306),\n",
       " (14, 10, 1, 0.8171428571428572),\n",
       " (14, 10, 3, 0.8353741496598639),\n",
       " (14, 10, 4, 0.8459863945578232),\n",
       " (14, 10, 5, 0.8250340136054422),\n",
       " (14, 10, 6, 0.8374149659863945),\n",
       " (14, 20, 1, 0.8484353741496599),\n",
       " (14, 20, 3, 0.843265306122449),\n",
       " (14, 20, 4, 0.8617687074829933),\n",
       " (14, 20, 5, 0.8473469387755102),\n",
       " (14, 20, 6, 0.8598639455782312),\n",
       " (14, 30, 1, 0.8455782312925171),\n",
       " (14, 30, 3, 0.8552380952380952),\n",
       " (14, 30, 4, 0.8604081632653061),\n",
       " (14, 30, 5, 0.8451700680272108),\n",
       " (14, 30, 6, 0.8557823129251702),\n",
       " (14, 40, 1, 0.8435374149659863),\n",
       " (14, 40, 3, 0.8640816326530611),\n",
       " (14, 40, 4, 0.8614965986394557),\n",
       " (14, 40, 5, 0.8565986394557823),\n",
       " (14, 40, 6, 0.8639455782312926),\n",
       " (14, 50, 1, 0.8527891156462585),\n",
       " (14, 50, 3, 0.8712925170068028),\n",
       " (14, 50, 4, 0.8606802721088436),\n",
       " (14, 50, 5, 0.8617687074829932),\n",
       " (14, 50, 6, 0.8644897959183674),\n",
       " (14, 60, 1, 0.8549659863945578),\n",
       " (14, 60, 3, 0.8718367346938776),\n",
       " (14, 60, 4, 0.8647619047619048),\n",
       " (14, 60, 5, 0.8549659863945578),\n",
       " (14, 60, 6, 0.8606802721088436),\n",
       " (14, 70, 1, 0.863265306122449),\n",
       " (14, 70, 3, 0.8718367346938776),\n",
       " (14, 70, 4, 0.8661224489795918),\n",
       " (14, 70, 5, 0.8538775510204082),\n",
       " (14, 70, 6, 0.8585034013605441),\n",
       " (14, 80, 1, 0.8663945578231292),\n",
       " (14, 80, 3, 0.8715646258503401),\n",
       " (14, 80, 4, 0.8696598639455783),\n",
       " (14, 80, 5, 0.8552380952380951),\n",
       " (14, 80, 6, 0.8625850340136054),\n",
       " (14, 90, 1, 0.8668027210884354),\n",
       " (14, 90, 3, 0.8723809523809523),\n",
       " (14, 90, 4, 0.8658503401360544),\n",
       " (14, 90, 5, 0.8563265306122448),\n",
       " (14, 90, 6, 0.8617687074829932),\n",
       " (14, 100, 1, 0.8727891156462585),\n",
       " (14, 100, 3, 0.8693877551020408),\n",
       " (14, 100, 4, 0.8715646258503402),\n",
       " (14, 100, 5, 0.8593197278911564),\n",
       " (14, 100, 6, 0.8623129251700681),\n",
       " (17, 10, 1, 0.8146938775510204),\n",
       " (17, 10, 3, 0.8353741496598639),\n",
       " (17, 10, 4, 0.8459863945578232),\n",
       " (17, 10, 5, 0.8250340136054422),\n",
       " (17, 10, 6, 0.8374149659863945),\n",
       " (17, 20, 1, 0.8507482993197278),\n",
       " (17, 20, 3, 0.843265306122449),\n",
       " (17, 20, 4, 0.8617687074829933),\n",
       " (17, 20, 5, 0.8473469387755102),\n",
       " (17, 20, 6, 0.8598639455782312),\n",
       " (17, 30, 1, 0.8453061224489796),\n",
       " (17, 30, 3, 0.8552380952380952),\n",
       " (17, 30, 4, 0.8604081632653061),\n",
       " (17, 30, 5, 0.8451700680272108),\n",
       " (17, 30, 6, 0.8557823129251702),\n",
       " (17, 40, 1, 0.8450340136054422),\n",
       " (17, 40, 3, 0.8640816326530611),\n",
       " (17, 40, 4, 0.8614965986394557),\n",
       " (17, 40, 5, 0.8565986394557823),\n",
       " (17, 40, 6, 0.8639455782312926),\n",
       " (17, 50, 1, 0.854829931972789),\n",
       " (17, 50, 3, 0.8712925170068028),\n",
       " (17, 50, 4, 0.8606802721088436),\n",
       " (17, 50, 5, 0.8617687074829932),\n",
       " (17, 50, 6, 0.8644897959183674),\n",
       " (17, 60, 1, 0.8591836734693877),\n",
       " (17, 60, 3, 0.8718367346938776),\n",
       " (17, 60, 4, 0.8647619047619048),\n",
       " (17, 60, 5, 0.8549659863945578),\n",
       " (17, 60, 6, 0.8606802721088436),\n",
       " (17, 70, 1, 0.8659863945578231),\n",
       " (17, 70, 3, 0.8718367346938776),\n",
       " (17, 70, 4, 0.8661224489795918),\n",
       " (17, 70, 5, 0.8538775510204082),\n",
       " (17, 70, 6, 0.8585034013605441),\n",
       " (17, 80, 1, 0.8676190476190476),\n",
       " (17, 80, 3, 0.8715646258503401),\n",
       " (17, 80, 4, 0.8696598639455783),\n",
       " (17, 80, 5, 0.8552380952380951),\n",
       " (17, 80, 6, 0.8625850340136054),\n",
       " (17, 90, 1, 0.86843537414966),\n",
       " (17, 90, 3, 0.8723809523809523),\n",
       " (17, 90, 4, 0.8658503401360544),\n",
       " (17, 90, 5, 0.8563265306122448),\n",
       " (17, 90, 6, 0.8617687074829932),\n",
       " (17, 100, 1, 0.8744217687074829),\n",
       " (17, 100, 3, 0.8693877551020408),\n",
       " (17, 100, 4, 0.8715646258503402),\n",
       " (17, 100, 5, 0.8593197278911564),\n",
       " (17, 100, 6, 0.8623129251700681),\n",
       " (18, 10, 1, 0.8146938775510204),\n",
       " (18, 10, 3, 0.8353741496598639),\n",
       " (18, 10, 4, 0.8459863945578232),\n",
       " (18, 10, 5, 0.8250340136054422),\n",
       " (18, 10, 6, 0.8374149659863945),\n",
       " (18, 20, 1, 0.8507482993197278),\n",
       " (18, 20, 3, 0.843265306122449),\n",
       " (18, 20, 4, 0.8617687074829933),\n",
       " (18, 20, 5, 0.8473469387755102),\n",
       " (18, 20, 6, 0.8598639455782312),\n",
       " (18, 30, 1, 0.8453061224489796),\n",
       " (18, 30, 3, 0.8552380952380952),\n",
       " (18, 30, 4, 0.8604081632653061),\n",
       " (18, 30, 5, 0.8451700680272108),\n",
       " (18, 30, 6, 0.8557823129251702),\n",
       " (18, 40, 1, 0.8450340136054422),\n",
       " (18, 40, 3, 0.8640816326530611),\n",
       " (18, 40, 4, 0.8614965986394557),\n",
       " (18, 40, 5, 0.8565986394557823),\n",
       " (18, 40, 6, 0.8639455782312926),\n",
       " (18, 50, 1, 0.8530612244897959),\n",
       " (18, 50, 3, 0.8712925170068028),\n",
       " (18, 50, 4, 0.8606802721088436),\n",
       " (18, 50, 5, 0.8617687074829932),\n",
       " (18, 50, 6, 0.8644897959183674),\n",
       " (18, 60, 1, 0.8578231292517007),\n",
       " (18, 60, 3, 0.8718367346938776),\n",
       " (18, 60, 4, 0.8647619047619048),\n",
       " (18, 60, 5, 0.8549659863945578),\n",
       " (18, 60, 6, 0.8606802721088436),\n",
       " (18, 70, 1, 0.8651700680272109),\n",
       " (18, 70, 3, 0.8718367346938776),\n",
       " (18, 70, 4, 0.8661224489795918),\n",
       " (18, 70, 5, 0.8538775510204082),\n",
       " (18, 70, 6, 0.8585034013605441),\n",
       " (18, 80, 1, 0.8663945578231292),\n",
       " (18, 80, 3, 0.8715646258503401),\n",
       " (18, 80, 4, 0.8696598639455783),\n",
       " (18, 80, 5, 0.8552380952380951),\n",
       " (18, 80, 6, 0.8625850340136054),\n",
       " (18, 90, 1, 0.8681632653061226),\n",
       " (18, 90, 3, 0.8723809523809523),\n",
       " (18, 90, 4, 0.8658503401360544),\n",
       " (18, 90, 5, 0.8563265306122448),\n",
       " (18, 90, 6, 0.8617687074829932),\n",
       " (18, 100, 1, 0.874421768707483),\n",
       " (18, 100, 3, 0.8693877551020408),\n",
       " (18, 100, 4, 0.8715646258503402),\n",
       " (18, 100, 5, 0.8593197278911564),\n",
       " (18, 100, 6, 0.8623129251700681)]"
      ]
     },
     "execution_count": 615,
     "metadata": {},
     "output_type": "execute_result"
    }
   ],
   "source": [
    "scores"
   ]
  },
  {
   "cell_type": "code",
   "execution_count": 616,
   "metadata": {},
   "outputs": [
    {
     "data": {
      "text/html": [
       "<div>\n",
       "<style scoped>\n",
       "    .dataframe tbody tr th:only-of-type {\n",
       "        vertical-align: middle;\n",
       "    }\n",
       "\n",
       "    .dataframe tbody tr th {\n",
       "        vertical-align: top;\n",
       "    }\n",
       "\n",
       "    .dataframe thead th {\n",
       "        text-align: right;\n",
       "    }\n",
       "</style>\n",
       "<table border=\"1\" class=\"dataframe\">\n",
       "  <thead>\n",
       "    <tr style=\"text-align: right;\">\n",
       "      <th></th>\n",
       "      <th>max_depth</th>\n",
       "      <th>n_estimators</th>\n",
       "      <th>min_sample</th>\n",
       "      <th>auc</th>\n",
       "    </tr>\n",
       "  </thead>\n",
       "  <tbody>\n",
       "    <tr>\n",
       "      <th>10</th>\n",
       "      <td>5</td>\n",
       "      <td>30</td>\n",
       "      <td>1</td>\n",
       "      <td>0.890884</td>\n",
       "    </tr>\n",
       "    <tr>\n",
       "      <th>5</th>\n",
       "      <td>5</td>\n",
       "      <td>20</td>\n",
       "      <td>1</td>\n",
       "      <td>0.886259</td>\n",
       "    </tr>\n",
       "    <tr>\n",
       "      <th>145</th>\n",
       "      <td>10</td>\n",
       "      <td>100</td>\n",
       "      <td>1</td>\n",
       "      <td>0.882993</td>\n",
       "    </tr>\n",
       "    <tr>\n",
       "      <th>140</th>\n",
       "      <td>10</td>\n",
       "      <td>90</td>\n",
       "      <td>1</td>\n",
       "      <td>0.880000</td>\n",
       "    </tr>\n",
       "    <tr>\n",
       "      <th>40</th>\n",
       "      <td>5</td>\n",
       "      <td>90</td>\n",
       "      <td>1</td>\n",
       "      <td>0.880000</td>\n",
       "    </tr>\n",
       "    <tr>\n",
       "      <th>...</th>\n",
       "      <td>...</td>\n",
       "      <td>...</td>\n",
       "      <td>...</td>\n",
       "      <td>...</td>\n",
       "    </tr>\n",
       "    <tr>\n",
       "      <th>54</th>\n",
       "      <td>7</td>\n",
       "      <td>10</td>\n",
       "      <td>6</td>\n",
       "      <td>0.823537</td>\n",
       "    </tr>\n",
       "    <tr>\n",
       "      <th>103</th>\n",
       "      <td>10</td>\n",
       "      <td>10</td>\n",
       "      <td>5</td>\n",
       "      <td>0.822857</td>\n",
       "    </tr>\n",
       "    <tr>\n",
       "      <th>150</th>\n",
       "      <td>14</td>\n",
       "      <td>10</td>\n",
       "      <td>1</td>\n",
       "      <td>0.817143</td>\n",
       "    </tr>\n",
       "    <tr>\n",
       "      <th>200</th>\n",
       "      <td>17</td>\n",
       "      <td>10</td>\n",
       "      <td>1</td>\n",
       "      <td>0.814694</td>\n",
       "    </tr>\n",
       "    <tr>\n",
       "      <th>250</th>\n",
       "      <td>18</td>\n",
       "      <td>10</td>\n",
       "      <td>1</td>\n",
       "      <td>0.814694</td>\n",
       "    </tr>\n",
       "  </tbody>\n",
       "</table>\n",
       "<p>300 rows × 4 columns</p>\n",
       "</div>"
      ],
      "text/plain": [
       "     max_depth  n_estimators  min_sample       auc\n",
       "10           5            30           1  0.890884\n",
       "5            5            20           1  0.886259\n",
       "145         10           100           1  0.882993\n",
       "140         10            90           1  0.880000\n",
       "40           5            90           1  0.880000\n",
       "..         ...           ...         ...       ...\n",
       "54           7            10           6  0.823537\n",
       "103         10            10           5  0.822857\n",
       "150         14            10           1  0.817143\n",
       "200         17            10           1  0.814694\n",
       "250         18            10           1  0.814694\n",
       "\n",
       "[300 rows x 4 columns]"
      ]
     },
     "execution_count": 616,
     "metadata": {},
     "output_type": "execute_result"
    }
   ],
   "source": [
    "columns = ['max_depth','n_estimators', 'min_sample', 'auc']\n",
    "rf_scores = pd.DataFrame(scores, columns = columns)\n",
    "# sort the result in ascending\n",
    "rf_scores.sort_values(by = 'auc',ascending = False)"
   ]
  },
  {
   "cell_type": "code",
   "execution_count": 617,
   "metadata": {},
   "outputs": [
    {
     "data": {
      "text/html": [
       "<style>#sk-container-id-115 {color: black;background-color: white;}#sk-container-id-115 pre{padding: 0;}#sk-container-id-115 div.sk-toggleable {background-color: white;}#sk-container-id-115 label.sk-toggleable__label {cursor: pointer;display: block;width: 100%;margin-bottom: 0;padding: 0.3em;box-sizing: border-box;text-align: center;}#sk-container-id-115 label.sk-toggleable__label-arrow:before {content: \"▸\";float: left;margin-right: 0.25em;color: #696969;}#sk-container-id-115 label.sk-toggleable__label-arrow:hover:before {color: black;}#sk-container-id-115 div.sk-estimator:hover label.sk-toggleable__label-arrow:before {color: black;}#sk-container-id-115 div.sk-toggleable__content {max-height: 0;max-width: 0;overflow: hidden;text-align: left;background-color: #f0f8ff;}#sk-container-id-115 div.sk-toggleable__content pre {margin: 0.2em;color: black;border-radius: 0.25em;background-color: #f0f8ff;}#sk-container-id-115 input.sk-toggleable__control:checked~div.sk-toggleable__content {max-height: 200px;max-width: 100%;overflow: auto;}#sk-container-id-115 input.sk-toggleable__control:checked~label.sk-toggleable__label-arrow:before {content: \"▾\";}#sk-container-id-115 div.sk-estimator input.sk-toggleable__control:checked~label.sk-toggleable__label {background-color: #d4ebff;}#sk-container-id-115 div.sk-label input.sk-toggleable__control:checked~label.sk-toggleable__label {background-color: #d4ebff;}#sk-container-id-115 input.sk-hidden--visually {border: 0;clip: rect(1px 1px 1px 1px);clip: rect(1px, 1px, 1px, 1px);height: 1px;margin: -1px;overflow: hidden;padding: 0;position: absolute;width: 1px;}#sk-container-id-115 div.sk-estimator {font-family: monospace;background-color: #f0f8ff;border: 1px dotted black;border-radius: 0.25em;box-sizing: border-box;margin-bottom: 0.5em;}#sk-container-id-115 div.sk-estimator:hover {background-color: #d4ebff;}#sk-container-id-115 div.sk-parallel-item::after {content: \"\";width: 100%;border-bottom: 1px solid gray;flex-grow: 1;}#sk-container-id-115 div.sk-label:hover label.sk-toggleable__label {background-color: #d4ebff;}#sk-container-id-115 div.sk-serial::before {content: \"\";position: absolute;border-left: 1px solid gray;box-sizing: border-box;top: 0;bottom: 0;left: 50%;z-index: 0;}#sk-container-id-115 div.sk-serial {display: flex;flex-direction: column;align-items: center;background-color: white;padding-right: 0.2em;padding-left: 0.2em;position: relative;}#sk-container-id-115 div.sk-item {position: relative;z-index: 1;}#sk-container-id-115 div.sk-parallel {display: flex;align-items: stretch;justify-content: center;background-color: white;position: relative;}#sk-container-id-115 div.sk-item::before, #sk-container-id-115 div.sk-parallel-item::before {content: \"\";position: absolute;border-left: 1px solid gray;box-sizing: border-box;top: 0;bottom: 0;left: 50%;z-index: -1;}#sk-container-id-115 div.sk-parallel-item {display: flex;flex-direction: column;z-index: 1;position: relative;background-color: white;}#sk-container-id-115 div.sk-parallel-item:first-child::after {align-self: flex-end;width: 50%;}#sk-container-id-115 div.sk-parallel-item:last-child::after {align-self: flex-start;width: 50%;}#sk-container-id-115 div.sk-parallel-item:only-child::after {width: 0;}#sk-container-id-115 div.sk-dashed-wrapped {border: 1px dashed gray;margin: 0 0.4em 0.5em 0.4em;box-sizing: border-box;padding-bottom: 0.4em;background-color: white;}#sk-container-id-115 div.sk-label label {font-family: monospace;font-weight: bold;display: inline-block;line-height: 1.2em;}#sk-container-id-115 div.sk-label-container {text-align: center;}#sk-container-id-115 div.sk-container {/* jupyter's `normalize.less` sets `[hidden] { display: none; }` but bootstrap.min.css set `[hidden] { display: none !important; }` so we also need the `!important` here to be able to override the default hidden behavior on the sphinx rendered scikit-learn.org. See: https://github.com/scikit-learn/scikit-learn/issues/21755 */display: inline-block !important;position: relative;}#sk-container-id-115 div.sk-text-repr-fallback {display: none;}</style><div id=\"sk-container-id-115\" class=\"sk-top-container\"><div class=\"sk-text-repr-fallback\"><pre>RandomForestClassifier(max_depth=7, min_samples_leaf=3, n_estimators=30,\n",
       "                       random_state=1)</pre><b>In a Jupyter environment, please rerun this cell to show the HTML representation or trust the notebook. <br />On GitHub, the HTML representation is unable to render, please try loading this page with nbviewer.org.</b></div><div class=\"sk-container\" hidden><div class=\"sk-item\"><div class=\"sk-estimator sk-toggleable\"><input class=\"sk-toggleable__control sk-hidden--visually\" id=\"sk-estimator-id-115\" type=\"checkbox\" checked><label for=\"sk-estimator-id-115\" class=\"sk-toggleable__label sk-toggleable__label-arrow\">RandomForestClassifier</label><div class=\"sk-toggleable__content\"><pre>RandomForestClassifier(max_depth=7, min_samples_leaf=3, n_estimators=30,\n",
       "                       random_state=1)</pre></div></div></div></div></div>"
      ],
      "text/plain": [
       "RandomForestClassifier(max_depth=7, min_samples_leaf=3, n_estimators=30,\n",
       "                       random_state=1)"
      ]
     },
     "execution_count": 617,
     "metadata": {},
     "output_type": "execute_result"
    }
   ],
   "source": [
    "# retrain the model\n",
    "rf = RandomForestClassifier(n_estimators =30, max_depth = 7, \n",
    "                                min_samples_leaf = 3, random_state =1)\n",
    "rf.fit(X_train, y_train)"
   ]
  },
  {
   "cell_type": "code",
   "execution_count": 618,
   "metadata": {},
   "outputs": [
    {
     "data": {
      "text/plain": [
       "0.8810884353741497"
      ]
     },
     "execution_count": 618,
     "metadata": {},
     "output_type": "execute_result"
    }
   ],
   "source": [
    "# Evaluate with the validation set\n",
    "y_pred = rf.predict_proba(X_val)[:, 1]\n",
    "auc = roc_auc_score(y_val, y_pred)\n",
    "auc"
   ]
  },
  {
   "cell_type": "code",
   "execution_count": 619,
   "metadata": {},
   "outputs": [
    {
     "data": {
      "text/plain": [
       "0.979672131147541"
      ]
     },
     "execution_count": 619,
     "metadata": {},
     "output_type": "execute_result"
    }
   ],
   "source": [
    "# check the training auc score\n",
    "y_pred = rf.predict_proba(X_train)[:, 1]\n",
    "auc = roc_auc_score(y_train, y_pred)\n",
    "auc"
   ]
  },
  {
   "attachments": {},
   "cell_type": "markdown",
   "metadata": {},
   "source": [
    "## Evaluating the best model on test dataset\n",
    "----------The best model is RaindomForest"
   ]
  },
  {
   "cell_type": "code",
   "execution_count": 620,
   "metadata": {},
   "outputs": [
    {
     "data": {
      "text/html": [
       "<style>#sk-container-id-116 {color: black;background-color: white;}#sk-container-id-116 pre{padding: 0;}#sk-container-id-116 div.sk-toggleable {background-color: white;}#sk-container-id-116 label.sk-toggleable__label {cursor: pointer;display: block;width: 100%;margin-bottom: 0;padding: 0.3em;box-sizing: border-box;text-align: center;}#sk-container-id-116 label.sk-toggleable__label-arrow:before {content: \"▸\";float: left;margin-right: 0.25em;color: #696969;}#sk-container-id-116 label.sk-toggleable__label-arrow:hover:before {color: black;}#sk-container-id-116 div.sk-estimator:hover label.sk-toggleable__label-arrow:before {color: black;}#sk-container-id-116 div.sk-toggleable__content {max-height: 0;max-width: 0;overflow: hidden;text-align: left;background-color: #f0f8ff;}#sk-container-id-116 div.sk-toggleable__content pre {margin: 0.2em;color: black;border-radius: 0.25em;background-color: #f0f8ff;}#sk-container-id-116 input.sk-toggleable__control:checked~div.sk-toggleable__content {max-height: 200px;max-width: 100%;overflow: auto;}#sk-container-id-116 input.sk-toggleable__control:checked~label.sk-toggleable__label-arrow:before {content: \"▾\";}#sk-container-id-116 div.sk-estimator input.sk-toggleable__control:checked~label.sk-toggleable__label {background-color: #d4ebff;}#sk-container-id-116 div.sk-label input.sk-toggleable__control:checked~label.sk-toggleable__label {background-color: #d4ebff;}#sk-container-id-116 input.sk-hidden--visually {border: 0;clip: rect(1px 1px 1px 1px);clip: rect(1px, 1px, 1px, 1px);height: 1px;margin: -1px;overflow: hidden;padding: 0;position: absolute;width: 1px;}#sk-container-id-116 div.sk-estimator {font-family: monospace;background-color: #f0f8ff;border: 1px dotted black;border-radius: 0.25em;box-sizing: border-box;margin-bottom: 0.5em;}#sk-container-id-116 div.sk-estimator:hover {background-color: #d4ebff;}#sk-container-id-116 div.sk-parallel-item::after {content: \"\";width: 100%;border-bottom: 1px solid gray;flex-grow: 1;}#sk-container-id-116 div.sk-label:hover label.sk-toggleable__label {background-color: #d4ebff;}#sk-container-id-116 div.sk-serial::before {content: \"\";position: absolute;border-left: 1px solid gray;box-sizing: border-box;top: 0;bottom: 0;left: 50%;z-index: 0;}#sk-container-id-116 div.sk-serial {display: flex;flex-direction: column;align-items: center;background-color: white;padding-right: 0.2em;padding-left: 0.2em;position: relative;}#sk-container-id-116 div.sk-item {position: relative;z-index: 1;}#sk-container-id-116 div.sk-parallel {display: flex;align-items: stretch;justify-content: center;background-color: white;position: relative;}#sk-container-id-116 div.sk-item::before, #sk-container-id-116 div.sk-parallel-item::before {content: \"\";position: absolute;border-left: 1px solid gray;box-sizing: border-box;top: 0;bottom: 0;left: 50%;z-index: -1;}#sk-container-id-116 div.sk-parallel-item {display: flex;flex-direction: column;z-index: 1;position: relative;background-color: white;}#sk-container-id-116 div.sk-parallel-item:first-child::after {align-self: flex-end;width: 50%;}#sk-container-id-116 div.sk-parallel-item:last-child::after {align-self: flex-start;width: 50%;}#sk-container-id-116 div.sk-parallel-item:only-child::after {width: 0;}#sk-container-id-116 div.sk-dashed-wrapped {border: 1px dashed gray;margin: 0 0.4em 0.5em 0.4em;box-sizing: border-box;padding-bottom: 0.4em;background-color: white;}#sk-container-id-116 div.sk-label label {font-family: monospace;font-weight: bold;display: inline-block;line-height: 1.2em;}#sk-container-id-116 div.sk-label-container {text-align: center;}#sk-container-id-116 div.sk-container {/* jupyter's `normalize.less` sets `[hidden] { display: none; }` but bootstrap.min.css set `[hidden] { display: none !important; }` so we also need the `!important` here to be able to override the default hidden behavior on the sphinx rendered scikit-learn.org. See: https://github.com/scikit-learn/scikit-learn/issues/21755 */display: inline-block !important;position: relative;}#sk-container-id-116 div.sk-text-repr-fallback {display: none;}</style><div id=\"sk-container-id-116\" class=\"sk-top-container\"><div class=\"sk-text-repr-fallback\"><pre>RandomForestClassifier(max_depth=9, min_samples_leaf=7, n_estimators=40,\n",
       "                       random_state=1)</pre><b>In a Jupyter environment, please rerun this cell to show the HTML representation or trust the notebook. <br />On GitHub, the HTML representation is unable to render, please try loading this page with nbviewer.org.</b></div><div class=\"sk-container\" hidden><div class=\"sk-item\"><div class=\"sk-estimator sk-toggleable\"><input class=\"sk-toggleable__control sk-hidden--visually\" id=\"sk-estimator-id-116\" type=\"checkbox\" checked><label for=\"sk-estimator-id-116\" class=\"sk-toggleable__label sk-toggleable__label-arrow\">RandomForestClassifier</label><div class=\"sk-toggleable__content\"><pre>RandomForestClassifier(max_depth=9, min_samples_leaf=7, n_estimators=40,\n",
       "                       random_state=1)</pre></div></div></div></div></div>"
      ],
      "text/plain": [
       "RandomForestClassifier(max_depth=9, min_samples_leaf=7, n_estimators=40,\n",
       "                       random_state=1)"
      ]
     },
     "execution_count": 620,
     "metadata": {},
     "output_type": "execute_result"
    }
   ],
   "source": [
    "# training the model using that full data (train + val)\n",
    "rf =   rf = RandomForestClassifier(n_estimators=40, max_depth=9, \n",
    "                                min_samples_leaf=7, random_state=1)\n",
    "rf.fit(df_full_train.drop('default', axis=1), df_full_train['default'].values)"
   ]
  },
  {
   "cell_type": "code",
   "execution_count": 621,
   "metadata": {},
   "outputs": [
    {
     "data": {
      "text/plain": [
       "0.7856131407533277"
      ]
     },
     "execution_count": 621,
     "metadata": {},
     "output_type": "execute_result"
    }
   ],
   "source": [
    "# testing auc score\n",
    "y_pred = rf.predict_proba(df_test.drop('default', axis=1))[:, 1]\n",
    "auc = roc_auc_score(df_test['default'].values, y_pred)\n",
    "auc"
   ]
  },
  {
   "cell_type": "code",
   "execution_count": 622,
   "metadata": {},
   "outputs": [
    {
     "data": {
      "text/plain": [
       "0.9511219512195122"
      ]
     },
     "execution_count": 622,
     "metadata": {},
     "output_type": "execute_result"
    }
   ],
   "source": [
    "# training auc score\n",
    "\n",
    "y_pred = rf.predict_proba(df_full_train.drop('default', axis=1))[:, 1]\n",
    "auc = roc_auc_score(df_full_train.default.values, y_pred)\n",
    "auc"
   ]
  },
  {
   "attachments": {},
   "cell_type": "markdown",
   "metadata": {},
   "source": [
    "## Save Model"
   ]
  },
  {
   "cell_type": "code",
   "execution_count": 623,
   "metadata": {},
   "outputs": [
    {
     "data": {
      "text/plain": [
       "['model.scoring']"
      ]
     },
     "execution_count": 623,
     "metadata": {},
     "output_type": "execute_result"
    }
   ],
   "source": [
    "import joblib\n",
    "\n",
    "# Save the model\n",
    "joblib.dump(rf, 'model.scoring')\n",
    "#load the model using joblib.load('model.joblib')\n",
    "\n"
   ]
  },
  {
   "attachments": {},
   "cell_type": "markdown",
   "metadata": {},
   "source": [
    "## Make prediction on new data"
   ]
  },
  {
   "cell_type": "code",
   "execution_count": 624,
   "metadata": {},
   "outputs": [
    {
     "name": "stdout",
     "output_type": "stream",
     "text": [
      "[0 0 0 0 0 0 0 1 0 0 0 0 0 0 0 0 1 0 0 0 0 0 0 0 0 0 0 0 0 0 0 0 1 0 0 0 0\n",
      " 0 1 0 1 0 0 0 0 1 0 0 0 0 0 0 0 0 0 0 1 0 1 0 0 0 0 1 0 0 0 0 0 0 1 0 0 0\n",
      " 0 0 0 1 0 0 0 1 0 0 1 0 0 0 0 1 0 0 0 0 0 0 0 0 0 0 0 0 0 1 0 0 0 1 0 0 1\n",
      " 0 0 0 0 0 0 0 0 0 0 0 0 0 0 0 1 0 0 0 0 0 0 0 0 0 1 0 0 0 1 0 0 0 0 0 0 0\n",
      " 0 0 0 0 0 0 0 0 0 1 0 0 0 0 0 0 0 0 1 0 0 0 0 0 0 0 0 0 0 0 0 0 0 0 1 0 0\n",
      " 0 0 0 1 0 1 0 0 0 0 1 0 0 0 0 0 0 0 0 0 0 1 0 1 0 0 0 0 1 0 0 0 0 0 0 1 0\n",
      " 0 0 0 0 0 1 0 0 0 1 0 0 1 0 0 0 0 1 0 0 0 0 0 0 0 0 0 0 0 0 0 1 0 0 0 1 0\n",
      " 0 1 0 0 0 0 0 0 0 0 0 0 0 0 0 0 0 1 0 0 0 0 0 0 0 0 0 1 0 0 0 1 0 0 0 0 0\n",
      " 0 0 0 0 0 0 0 0 0 0 0 1 0 0 0 0 0 0 0 0 1 0 0 0 0 0 0 0 0 0 0 0 0 0 0 0 1\n",
      " 0 0 0 0 0 1 0 1 0 0 0 0 1 0 0 0 0 0 0 0 0 0 0 1 0 1 0 0 0 0 1 0 0 0 0 0 0\n",
      " 1 0 0 0 0 0 0 1 0 0 0 1 0 0 1 0 0 0 0 1 0 0 0 0 0 0 0 0 0 0 0 0 0 1 0 0 0\n",
      " 1 0 0 1 0 0 0 0 0 0 0 0 0 0 0 0 0 0 0 1 0 0 0 0 0 0 0 0 0 1 0 0 0 1 0 0 0\n",
      " 0 0 0 0 0 0]\n"
     ]
    }
   ],
   "source": [
    "# Load the model\n",
    "rf = joblib.load('model.scoring')\n",
    "\n",
    "# Load the new data\n",
    "new_data = pd.read_csv('unk_bankloan.csv')\n",
    "new_data = new_data.drop(['default', 'Unnamed: 0'], axis = 1)\n",
    "\n",
    "# Make predictions on the new data\n",
    "predictions = rf.predict(new_data)\n",
    "\n",
    "# Print the predictions\n",
    "print(predictions)"
   ]
  },
  {
   "cell_type": "code",
   "execution_count": 625,
   "metadata": {},
   "outputs": [
    {
     "name": "stdout",
     "output_type": "stream",
     "text": [
      "     age  ed  employ  address  income  debtinc  creddebt   othdebt  default\n",
      "0     36   1      16       13      32     10.9  0.544128  2.943872        0\n",
      "1     50   1       6       27      21     12.9  1.316574  1.392426        0\n",
      "2     40   1       9        9      33     17.0  4.880700  0.729300        0\n",
      "3     31   1       5        7      23      2.0  0.046000  0.414000        0\n",
      "4     29   1       4        0      24      7.8  0.866736  1.005264        0\n",
      "..   ...  ..     ...      ...     ...      ...       ...       ...      ...\n",
      "445   34   1      12       15      32      2.7  0.239328  0.624672        0\n",
      "446   32   2      12       11     116      5.7  4.026708  2.585292        0\n",
      "447   48   1      13       11      38     10.8  0.722304  3.381696        0\n",
      "448   35   2       1       11      24      7.8  0.417456  1.454544        0\n",
      "449   37   1      20       13      41     12.9  0.899130  4.389870        0\n",
      "\n",
      "[450 rows x 9 columns]\n"
     ]
    }
   ],
   "source": [
    "# Add predictions to new data dataframe\n",
    "new_data['default'] = predictions\n",
    "\n",
    "# Print the new data with predictions\n",
    "print(new_data)"
   ]
  },
  {
   "cell_type": "code",
   "execution_count": 626,
   "metadata": {},
   "outputs": [
    {
     "data": {
      "text/html": [
       "<div>\n",
       "<style scoped>\n",
       "    .dataframe tbody tr th:only-of-type {\n",
       "        vertical-align: middle;\n",
       "    }\n",
       "\n",
       "    .dataframe tbody tr th {\n",
       "        vertical-align: top;\n",
       "    }\n",
       "\n",
       "    .dataframe thead th {\n",
       "        text-align: right;\n",
       "    }\n",
       "</style>\n",
       "<table border=\"1\" class=\"dataframe\">\n",
       "  <thead>\n",
       "    <tr style=\"text-align: right;\">\n",
       "      <th></th>\n",
       "      <th>age</th>\n",
       "      <th>ed</th>\n",
       "      <th>employ</th>\n",
       "      <th>address</th>\n",
       "      <th>income</th>\n",
       "      <th>debtinc</th>\n",
       "      <th>creddebt</th>\n",
       "      <th>othdebt</th>\n",
       "      <th>default</th>\n",
       "    </tr>\n",
       "  </thead>\n",
       "  <tbody>\n",
       "    <tr>\n",
       "      <th>0</th>\n",
       "      <td>36</td>\n",
       "      <td>1</td>\n",
       "      <td>16</td>\n",
       "      <td>13</td>\n",
       "      <td>32</td>\n",
       "      <td>10.9</td>\n",
       "      <td>0.544128</td>\n",
       "      <td>2.943872</td>\n",
       "      <td>0</td>\n",
       "    </tr>\n",
       "    <tr>\n",
       "      <th>1</th>\n",
       "      <td>50</td>\n",
       "      <td>1</td>\n",
       "      <td>6</td>\n",
       "      <td>27</td>\n",
       "      <td>21</td>\n",
       "      <td>12.9</td>\n",
       "      <td>1.316574</td>\n",
       "      <td>1.392426</td>\n",
       "      <td>0</td>\n",
       "    </tr>\n",
       "    <tr>\n",
       "      <th>2</th>\n",
       "      <td>40</td>\n",
       "      <td>1</td>\n",
       "      <td>9</td>\n",
       "      <td>9</td>\n",
       "      <td>33</td>\n",
       "      <td>17.0</td>\n",
       "      <td>4.880700</td>\n",
       "      <td>0.729300</td>\n",
       "      <td>0</td>\n",
       "    </tr>\n",
       "    <tr>\n",
       "      <th>3</th>\n",
       "      <td>31</td>\n",
       "      <td>1</td>\n",
       "      <td>5</td>\n",
       "      <td>7</td>\n",
       "      <td>23</td>\n",
       "      <td>2.0</td>\n",
       "      <td>0.046000</td>\n",
       "      <td>0.414000</td>\n",
       "      <td>0</td>\n",
       "    </tr>\n",
       "    <tr>\n",
       "      <th>4</th>\n",
       "      <td>29</td>\n",
       "      <td>1</td>\n",
       "      <td>4</td>\n",
       "      <td>0</td>\n",
       "      <td>24</td>\n",
       "      <td>7.8</td>\n",
       "      <td>0.866736</td>\n",
       "      <td>1.005264</td>\n",
       "      <td>0</td>\n",
       "    </tr>\n",
       "    <tr>\n",
       "      <th>...</th>\n",
       "      <td>...</td>\n",
       "      <td>...</td>\n",
       "      <td>...</td>\n",
       "      <td>...</td>\n",
       "      <td>...</td>\n",
       "      <td>...</td>\n",
       "      <td>...</td>\n",
       "      <td>...</td>\n",
       "      <td>...</td>\n",
       "    </tr>\n",
       "    <tr>\n",
       "      <th>445</th>\n",
       "      <td>34</td>\n",
       "      <td>1</td>\n",
       "      <td>12</td>\n",
       "      <td>15</td>\n",
       "      <td>32</td>\n",
       "      <td>2.7</td>\n",
       "      <td>0.239328</td>\n",
       "      <td>0.624672</td>\n",
       "      <td>0</td>\n",
       "    </tr>\n",
       "    <tr>\n",
       "      <th>446</th>\n",
       "      <td>32</td>\n",
       "      <td>2</td>\n",
       "      <td>12</td>\n",
       "      <td>11</td>\n",
       "      <td>116</td>\n",
       "      <td>5.7</td>\n",
       "      <td>4.026708</td>\n",
       "      <td>2.585292</td>\n",
       "      <td>0</td>\n",
       "    </tr>\n",
       "    <tr>\n",
       "      <th>447</th>\n",
       "      <td>48</td>\n",
       "      <td>1</td>\n",
       "      <td>13</td>\n",
       "      <td>11</td>\n",
       "      <td>38</td>\n",
       "      <td>10.8</td>\n",
       "      <td>0.722304</td>\n",
       "      <td>3.381696</td>\n",
       "      <td>0</td>\n",
       "    </tr>\n",
       "    <tr>\n",
       "      <th>448</th>\n",
       "      <td>35</td>\n",
       "      <td>2</td>\n",
       "      <td>1</td>\n",
       "      <td>11</td>\n",
       "      <td>24</td>\n",
       "      <td>7.8</td>\n",
       "      <td>0.417456</td>\n",
       "      <td>1.454544</td>\n",
       "      <td>0</td>\n",
       "    </tr>\n",
       "    <tr>\n",
       "      <th>449</th>\n",
       "      <td>37</td>\n",
       "      <td>1</td>\n",
       "      <td>20</td>\n",
       "      <td>13</td>\n",
       "      <td>41</td>\n",
       "      <td>12.9</td>\n",
       "      <td>0.899130</td>\n",
       "      <td>4.389870</td>\n",
       "      <td>0</td>\n",
       "    </tr>\n",
       "  </tbody>\n",
       "</table>\n",
       "<p>450 rows × 9 columns</p>\n",
       "</div>"
      ],
      "text/plain": [
       "     age  ed  employ  address  income  debtinc  creddebt   othdebt  default\n",
       "0     36   1      16       13      32     10.9  0.544128  2.943872        0\n",
       "1     50   1       6       27      21     12.9  1.316574  1.392426        0\n",
       "2     40   1       9        9      33     17.0  4.880700  0.729300        0\n",
       "3     31   1       5        7      23      2.0  0.046000  0.414000        0\n",
       "4     29   1       4        0      24      7.8  0.866736  1.005264        0\n",
       "..   ...  ..     ...      ...     ...      ...       ...       ...      ...\n",
       "445   34   1      12       15      32      2.7  0.239328  0.624672        0\n",
       "446   32   2      12       11     116      5.7  4.026708  2.585292        0\n",
       "447   48   1      13       11      38     10.8  0.722304  3.381696        0\n",
       "448   35   2       1       11      24      7.8  0.417456  1.454544        0\n",
       "449   37   1      20       13      41     12.9  0.899130  4.389870        0\n",
       "\n",
       "[450 rows x 9 columns]"
      ]
     },
     "execution_count": 626,
     "metadata": {},
     "output_type": "execute_result"
    }
   ],
   "source": [
    "columns = ['age', 'ed', 'employ', 'address', 'income', 'debtinc', 'creddebt',\n",
    "       'othdebt', 'default']\n",
    "\n",
    "pd.DataFrame(new_data, columns = columns)"
   ]
  }
 ],
 "metadata": {
  "kernelspec": {
   "display_name": "Python 3",
   "language": "python",
   "name": "python3"
  },
  "language_info": {
   "codemirror_mode": {
    "name": "ipython",
    "version": 3
   },
   "file_extension": ".py",
   "mimetype": "text/x-python",
   "name": "python",
   "nbconvert_exporter": "python",
   "pygments_lexer": "ipython3",
   "version": "3.11.2"
  },
  "orig_nbformat": 4
 },
 "nbformat": 4,
 "nbformat_minor": 2
}
